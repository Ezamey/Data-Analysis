{
 "cells": [
  {
   "cell_type": "code",
   "execution_count": 49,
   "metadata": {},
   "outputs": [],
   "source": [
    "#imports\n",
    "import pandas as pd\n",
    "from pandas.plotting import scatter_matrix\n",
    "import numpy as np\n",
    "import matplotlib.pyplot as plt\n",
    "import seaborn as sns\n",
    "%matplotlib inline"
   ]
  },
  {
   "cell_type": "code",
   "execution_count": 50,
   "metadata": {},
   "outputs": [],
   "source": [
    "%config IPCompleter.greedy=True"
   ]
  },
  {
   "cell_type": "code",
   "execution_count": 51,
   "metadata": {},
   "outputs": [],
   "source": [
    "#dataset\n",
    "PATH_1 = (\"DatasetsImmo/immozip_oneHot.csv\")\n",
    "PATH_2 = (\"DatasetsImmo/RA_immoZip.csv\")"
   ]
  },
  {
   "cell_type": "code",
   "execution_count": 52,
   "metadata": {},
   "outputs": [
    {
     "name": "stdout",
     "output_type": "stream",
     "text": [
      "immo_classic =(11865, 22)\n"
     ]
    }
   ],
   "source": [
    "immo_classic = pd.read_csv(PATH_2)\n",
    "immo_classic.drop(\"Unnamed: 0\",inplace= True,axis=1)\n",
    "print(\"immo_classic ={}\".format(immo_classic.shape))"
   ]
  },
  {
   "cell_type": "code",
   "execution_count": 53,
   "metadata": {},
   "outputs": [
    {
     "name": "stdout",
     "output_type": "stream",
     "text": [
      "immo_one_hot.shape =(11865, 62)\n"
     ]
    }
   ],
   "source": [
    "immo_one_hot = pd.read_csv(PATH_1)\n",
    "immo_one_hot.drop(\"Unnamed: 0\",inplace= True,axis=1)\n",
    "print(\"immo_one_hot.shape ={}\".format(immo_one_hot.shape))"
   ]
  },
  {
   "cell_type": "code",
   "execution_count": 54,
   "metadata": {},
   "outputs": [
    {
     "data": {
      "text/html": [
       "<div>\n",
       "<style scoped>\n",
       "    .dataframe tbody tr th:only-of-type {\n",
       "        vertical-align: middle;\n",
       "    }\n",
       "\n",
       "    .dataframe tbody tr th {\n",
       "        vertical-align: top;\n",
       "    }\n",
       "\n",
       "    .dataframe thead th {\n",
       "        text-align: right;\n",
       "    }\n",
       "</style>\n",
       "<table border=\"1\" class=\"dataframe\">\n",
       "  <thead>\n",
       "    <tr style=\"text-align: right;\">\n",
       "      <th></th>\n",
       "      <th>price</th>\n",
       "      <th>constructionYear</th>\n",
       "      <th>room_number</th>\n",
       "      <th>mètres carrés</th>\n",
       "      <th>prix mètres carrés</th>\n",
       "      <th>parking extérieur</th>\n",
       "      <th>atticExists</th>\n",
       "      <th>basementExists</th>\n",
       "      <th>hasSwimmingPool</th>\n",
       "      <th>zip</th>\n",
       "      <th>...</th>\n",
       "      <th>condition_is_to be done up</th>\n",
       "      <th>condition_is_to renovate</th>\n",
       "      <th>condition_is_to restore</th>\n",
       "      <th>heatingType_is_carbon</th>\n",
       "      <th>heatingType_is_electric</th>\n",
       "      <th>heatingType_is_fueloil</th>\n",
       "      <th>heatingType_is_gas</th>\n",
       "      <th>heatingType_is_pellet</th>\n",
       "      <th>heatingType_is_solar</th>\n",
       "      <th>heatingType_is_wood</th>\n",
       "    </tr>\n",
       "  </thead>\n",
       "  <tbody>\n",
       "    <tr>\n",
       "      <th>0</th>\n",
       "      <td>1550000</td>\n",
       "      <td>2017.0</td>\n",
       "      <td>3.0</td>\n",
       "      <td>213</td>\n",
       "      <td>7277.00</td>\n",
       "      <td>1.0</td>\n",
       "      <td>False</td>\n",
       "      <td>False</td>\n",
       "      <td>False</td>\n",
       "      <td>1050</td>\n",
       "      <td>...</td>\n",
       "      <td>0</td>\n",
       "      <td>0</td>\n",
       "      <td>0</td>\n",
       "      <td>0</td>\n",
       "      <td>0</td>\n",
       "      <td>0</td>\n",
       "      <td>1</td>\n",
       "      <td>0</td>\n",
       "      <td>0</td>\n",
       "      <td>0</td>\n",
       "    </tr>\n",
       "    <tr>\n",
       "      <th>1</th>\n",
       "      <td>495000</td>\n",
       "      <td>1960.0</td>\n",
       "      <td>3.0</td>\n",
       "      <td>120</td>\n",
       "      <td>4125.00</td>\n",
       "      <td>0.0</td>\n",
       "      <td>False</td>\n",
       "      <td>True</td>\n",
       "      <td>False</td>\n",
       "      <td>1050</td>\n",
       "      <td>...</td>\n",
       "      <td>0</td>\n",
       "      <td>0</td>\n",
       "      <td>0</td>\n",
       "      <td>0</td>\n",
       "      <td>0</td>\n",
       "      <td>0</td>\n",
       "      <td>1</td>\n",
       "      <td>0</td>\n",
       "      <td>0</td>\n",
       "      <td>0</td>\n",
       "    </tr>\n",
       "    <tr>\n",
       "      <th>2</th>\n",
       "      <td>1537000</td>\n",
       "      <td>2015.0</td>\n",
       "      <td>2.0</td>\n",
       "      <td>160</td>\n",
       "      <td>9606.25</td>\n",
       "      <td>1.0</td>\n",
       "      <td>False</td>\n",
       "      <td>True</td>\n",
       "      <td>False</td>\n",
       "      <td>1050</td>\n",
       "      <td>...</td>\n",
       "      <td>0</td>\n",
       "      <td>0</td>\n",
       "      <td>0</td>\n",
       "      <td>0</td>\n",
       "      <td>0</td>\n",
       "      <td>0</td>\n",
       "      <td>1</td>\n",
       "      <td>0</td>\n",
       "      <td>0</td>\n",
       "      <td>0</td>\n",
       "    </tr>\n",
       "  </tbody>\n",
       "</table>\n",
       "<p>3 rows × 62 columns</p>\n",
       "</div>"
      ],
      "text/plain": [
       "     price  constructionYear  room_number  mètres carrés  prix mètres carrés  \\\n",
       "0  1550000            2017.0          3.0            213             7277.00   \n",
       "1   495000            1960.0          3.0            120             4125.00   \n",
       "2  1537000            2015.0          2.0            160             9606.25   \n",
       "\n",
       "   parking extérieur  atticExists  basementExists  hasSwimmingPool   zip  ...  \\\n",
       "0                1.0        False           False            False  1050  ...   \n",
       "1                0.0        False            True            False  1050  ...   \n",
       "2                1.0        False            True            False  1050  ...   \n",
       "\n",
       "  condition_is_to be done up condition_is_to renovate  \\\n",
       "0                          0                        0   \n",
       "1                          0                        0   \n",
       "2                          0                        0   \n",
       "\n",
       "   condition_is_to restore  heatingType_is_carbon  heatingType_is_electric  \\\n",
       "0                        0                      0                        0   \n",
       "1                        0                      0                        0   \n",
       "2                        0                      0                        0   \n",
       "\n",
       "   heatingType_is_fueloil heatingType_is_gas  heatingType_is_pellet  \\\n",
       "0                       0                  1                      0   \n",
       "1                       0                  1                      0   \n",
       "2                       0                  1                      0   \n",
       "\n",
       "   heatingType_is_solar  heatingType_is_wood  \n",
       "0                     0                    0  \n",
       "1                     0                    0  \n",
       "2                     0                    0  \n",
       "\n",
       "[3 rows x 62 columns]"
      ]
     },
     "execution_count": 54,
     "metadata": {},
     "output_type": "execute_result"
    }
   ],
   "source": [
    "immo_one_hot.head(3)"
   ]
  },
  {
   "cell_type": "code",
   "execution_count": 90,
   "metadata": {},
   "outputs": [
    {
     "data": {
      "text/plain": [
       "constructionYear\n",
       "1933-01-01     2\n",
       "1974-01-01     4\n",
       "1974-01-01     4\n",
       "1974-01-01     4\n",
       "1974-01-01     4\n",
       "              ..\n",
       "1918-01-01    20\n",
       "1918-01-01    20\n",
       "2003-01-01     6\n",
       "2003-01-01     6\n",
       "2003-01-01     6\n",
       "Name: parking extérieur, Length: 11865, dtype: int32"
      ]
     },
     "execution_count": 90,
     "metadata": {},
     "output_type": "execute_result"
    }
   ],
   "source": [
    "immo_classic[\"parking extérieur\"].astype(int)"
   ]
  },
  {
   "cell_type": "code",
   "execution_count": 88,
   "metadata": {},
   "outputs": [
    {
     "data": {
      "text/plain": [
       "(array([2.001e+03, 5.459e+03, 1.876e+03, 9.230e+02, 4.270e+02, 2.960e+02,\n",
       "        1.610e+02, 1.570e+02, 1.490e+02, 6.900e+01, 6.000e+01, 2.400e+01,\n",
       "        5.600e+01, 3.800e+01, 1.400e+01, 6.000e+01, 2.100e+01, 2.500e+01,\n",
       "        9.000e+00, 4.000e+00, 3.000e+00, 4.000e+00, 3.000e+00, 1.000e+00,\n",
       "        1.000e+00, 0.000e+00, 3.000e+00, 5.000e+00, 3.000e+00, 0.000e+00,\n",
       "        1.000e+00, 3.000e+00, 0.000e+00, 0.000e+00, 6.000e+00, 0.000e+00,\n",
       "        0.000e+00, 0.000e+00, 0.000e+00, 0.000e+00, 0.000e+00, 0.000e+00,\n",
       "        0.000e+00, 0.000e+00, 0.000e+00, 0.000e+00, 0.000e+00, 0.000e+00,\n",
       "        0.000e+00, 3.000e+00]),\n",
       " array([  15000.,  204700.,  394400.,  584100.,  773800.,  963500.,\n",
       "        1153200., 1342900., 1532600., 1722300., 1912000., 2101700.,\n",
       "        2291400., 2481100., 2670800., 2860500., 3050200., 3239900.,\n",
       "        3429600., 3619300., 3809000., 3998700., 4188400., 4378100.,\n",
       "        4567800., 4757500., 4947200., 5136900., 5326600., 5516300.,\n",
       "        5706000., 5895700., 6085400., 6275100., 6464800., 6654500.,\n",
       "        6844200., 7033900., 7223600., 7413300., 7603000., 7792700.,\n",
       "        7982400., 8172100., 8361800., 8551500., 8741200., 8930900.,\n",
       "        9120600., 9310300., 9500000.]),\n",
       " <BarContainer object of 50 artists>)"
      ]
     },
     "execution_count": 88,
     "metadata": {},
     "output_type": "execute_result"
    },
    {
     "data": {
      "image/png": "[encoded data removed]",
      "text/plain": [
       "<Figure size 432x288 with 1 Axes>"
      ]
     },
     "metadata": {
      "needs_background": "light"
     },
     "output_type": "display_data"
    }
   ],
   "source": [
    "plt.hist(immo_classic[\"price\"],bins=50)"
   ]
  },
  {
   "cell_type": "code",
   "execution_count": 55,
   "metadata": {},
   "outputs": [
    {
     "data": {
      "text/plain": [
       "price                                15000\n",
       "type                             apartment\n",
       "subtype                          apartment\n",
       "constructionYear                      1763\n",
       "condition                           as new\n",
       "room_number                              0\n",
       "cuisine_type                hyper equipped\n",
       "heatingType                         carbon\n",
       "mètres carrés                            1\n",
       "prix mètres carrés                   92.59\n",
       "parking extérieur                        0\n",
       "atticExists                          False\n",
       "basementExists                       False\n",
       "hasSwimmingPool                      False\n",
       "zip                                   1000\n",
       "city                        's Gravenwezel\n",
       "municipalities                     Antwerp\n",
       "parking intérieur                        0\n",
       "lng                                2.58067\n",
       "lat                                49.5377\n",
       "id                                 5582833\n",
       "company_name          1st quality vastgoed\n",
       "dtype: object"
      ]
     },
     "execution_count": 55,
     "metadata": {},
     "output_type": "execute_result"
    }
   ],
   "source": [
    "immo_classic.min()"
   ]
  },
  {
   "cell_type": "markdown",
   "metadata": {},
   "source": [
    "###### Drop Outlier"
   ]
  },
  {
   "cell_type": "markdown",
   "metadata": {},
   "source": [
    "[Snippet](https://medium.com/datadriveninvestor/finding-outliers-in-dataset-using-python-efc3fce6ce32)"
   ]
  },
  {
   "cell_type": "code",
   "execution_count": 56,
   "metadata": {},
   "outputs": [],
   "source": [
    "outliers=[]\n",
    "def detect_outlier(data_1):\n",
    "    \n",
    "    threshold=3\n",
    "    mean_1 = np.mean(data_1)\n",
    "    std_1 =np.std(data_1)\n",
    "    \n",
    "    for y in data_1:\n",
    "        z_score= (y - mean_1)/std_1 \n",
    "        if np.abs(z_score) > threshold:\n",
    "            outliers.append(y)\n",
    "    return outliers"
   ]
  },
  {
   "cell_type": "code",
   "execution_count": 57,
   "metadata": {},
   "outputs": [
    {
     "data": {
      "text/plain": [
       "9500000"
      ]
     },
     "execution_count": 57,
     "metadata": {},
     "output_type": "execute_result"
    }
   ],
   "source": [
    "immo_classic.price.max()"
   ]
  },
  {
   "cell_type": "code",
   "execution_count": 58,
   "metadata": {},
   "outputs": [
    {
     "data": {
      "text/plain": [
       "15000"
      ]
     },
     "execution_count": 58,
     "metadata": {},
     "output_type": "execute_result"
    }
   ],
   "source": [
    "immo_classic.price.min()"
   ]
  },
  {
   "cell_type": "code",
   "execution_count": 59,
   "metadata": {},
   "outputs": [],
   "source": [
    "price_outliers = detect_outlier(immo_classic.price)"
   ]
  },
  {
   "cell_type": "code",
   "execution_count": 60,
   "metadata": {},
   "outputs": [
    {
     "data": {
      "text/plain": [
       "[2500000,\n",
       " 2500000,\n",
       " 3324000,\n",
       " 3297000,\n",
       " 2500000,\n",
       " 3370000,\n",
       " 2650000,\n",
       " 3370000,\n",
       " 3297000,\n",
       " 3324000,\n",
       " 4950000,\n",
       " 3800000,\n",
       " 3900000,\n",
       " 2485000,\n",
       " 2190000,\n",
       " 2200000,\n",
       " 3495000,\n",
       " 4950000,\n",
       " 3495000,\n",
       " 2295000,\n",
       " 3495000,\n",
       " 3900000,\n",
       " 2750000,\n",
       " 5200000,\n",
       " 2950000,\n",
       " 2950000,\n",
       " 2500000,\n",
       " 2250000,\n",
       " 3295000,\n",
       " 3295000,\n",
       " 2950000,\n",
       " 2750000,\n",
       " 4200000,\n",
       " 4200000,\n",
       " 2895000,\n",
       " 2590000,\n",
       " 2350000,\n",
       " 2495000,\n",
       " 2495000,\n",
       " 2495000,\n",
       " 2450000,\n",
       " 2400000,\n",
       " 2600000,\n",
       " 2450000,\n",
       " 2450000,\n",
       " 4200000,\n",
       " 2350000,\n",
       " 4500000,\n",
       " 2950000,\n",
       " 2950000,\n",
       " 2495000,\n",
       " 2495000,\n",
       " 2495000,\n",
       " 2695000,\n",
       " 2695000,\n",
       " 2695000,\n",
       " 3200000,\n",
       " 3200000,\n",
       " 3200000,\n",
       " 2200000,\n",
       " 2200000,\n",
       " 2200000,\n",
       " 2650000,\n",
       " 2650000,\n",
       " 2650000,\n",
       " 2495000,\n",
       " 2495000,\n",
       " 2495000,\n",
       " 3200000,\n",
       " 3200000,\n",
       " 3200000,\n",
       " 2975000,\n",
       " 2975000,\n",
       " 2975000,\n",
       " 2350000,\n",
       " 2350000,\n",
       " 2350000,\n",
       " 2395000,\n",
       " 2395000,\n",
       " 2395000,\n",
       " 2295000,\n",
       " 2295000,\n",
       " 2295000,\n",
       " 2975000,\n",
       " 2975000,\n",
       " 2975000,\n",
       " 2975000,\n",
       " 2975000,\n",
       " 2975000,\n",
       " 3200000,\n",
       " 3200000,\n",
       " 3200000,\n",
       " 2850000,\n",
       " 2850000,\n",
       " 2850000,\n",
       " 3595000,\n",
       " 3595000,\n",
       " 3595000,\n",
       " 2350000,\n",
       " 2350000,\n",
       " 2350000,\n",
       " 3200000,\n",
       " 3200000,\n",
       " 3200000,\n",
       " 2975000,\n",
       " 2975000,\n",
       " 2975000,\n",
       " 3595000,\n",
       " 3595000,\n",
       " 3595000,\n",
       " 3200000,\n",
       " 3200000,\n",
       " 3200000,\n",
       " 2275000,\n",
       " 2275000,\n",
       " 2275000,\n",
       " 2975000,\n",
       " 2975000,\n",
       " 2975000,\n",
       " 2325000,\n",
       " 2325000,\n",
       " 2325000,\n",
       " 3245000,\n",
       " 3245000,\n",
       " 3245000,\n",
       " 3000000,\n",
       " 3000000,\n",
       " 3000000,\n",
       " 3050000,\n",
       " 3050000,\n",
       " 3050000,\n",
       " 2325000,\n",
       " 2325000,\n",
       " 2325000,\n",
       " 5500000,\n",
       " 5500000,\n",
       " 5500000,\n",
       " 2200000,\n",
       " 2200000,\n",
       " 2200000,\n",
       " 2385000,\n",
       " 2385000,\n",
       " 2385000,\n",
       " 2850000,\n",
       " 2850000,\n",
       " 2850000,\n",
       " 2490000,\n",
       " 2490000,\n",
       " 2490000,\n",
       " 5200000,\n",
       " 5200000,\n",
       " 5200000,\n",
       " 2950000,\n",
       " 2950000,\n",
       " 2950000,\n",
       " 2490000,\n",
       " 2490000,\n",
       " 2490000,\n",
       " 2995000,\n",
       " 2995000,\n",
       " 2995000,\n",
       " 2950000,\n",
       " 2950000,\n",
       " 2950000,\n",
       " 2995000,\n",
       " 2995000,\n",
       " 2995000,\n",
       " 2995000,\n",
       " 2995000,\n",
       " 2995000,\n",
       " 2995000,\n",
       " 2995000,\n",
       " 2995000,\n",
       " 9500000,\n",
       " 9500000,\n",
       " 9500000,\n",
       " 2495000,\n",
       " 2495000,\n",
       " 2495000,\n",
       " 2995000,\n",
       " 2995000,\n",
       " 2995000,\n",
       " 4050000,\n",
       " 4050000,\n",
       " 4050000,\n",
       " 4750000,\n",
       " 2490000,\n",
       " 5200000,\n",
       " 2500000,\n",
       " 3400000,\n",
       " 2250000,\n",
       " 4000000,\n",
       " 4950000,\n",
       " 2850000,\n",
       " 2200000,\n",
       " 2450000,\n",
       " 2200000,\n",
       " 5950000,\n",
       " 5950000,\n",
       " 3800000,\n",
       " 3800000,\n",
       " 2250000,\n",
       " 3800000,\n",
       " 2450000,\n",
       " 5950000,\n",
       " 2750000,\n",
       " 2400000,\n",
       " 2500000,\n",
       " 2650000,\n",
       " 2450000,\n",
       " 2900000,\n",
       " 2400000,\n",
       " 2399000,\n",
       " 2399000,\n",
       " 2200000,\n",
       " 2600000,\n",
       " 2450000,\n",
       " 2450000,\n",
       " 2450000,\n",
       " 2250000,\n",
       " 2250000,\n",
       " 2250000,\n",
       " 2250000,\n",
       " 2750000,\n",
       " 2950000,\n",
       " 2995000,\n",
       " 2995000,\n",
       " 3250000,\n",
       " 2900000,\n",
       " 3850000,\n",
       " 2200000,\n",
       " 2975000,\n",
       " 2975000,\n",
       " 2497000,\n",
       " 2497000,\n",
       " 2497000,\n",
       " 2900000,\n",
       " 2900000,\n",
       " 2900000,\n",
       " 2900000,\n",
       " 2900000,\n",
       " 3350000,\n",
       " 3350000,\n",
       " 3350000,\n",
       " 3350000,\n",
       " 3350000,\n",
       " 3350000,\n",
       " 2450000,\n",
       " 2450000,\n",
       " 2450000,\n",
       " 2450000,\n",
       " 2450000,\n",
       " 2450000,\n",
       " 2450000,\n",
       " 2450000,\n",
       " 2450000,\n",
       " 2450000,\n",
       " 2450000,\n",
       " 2450000,\n",
       " 2450000,\n",
       " 2450000,\n",
       " 2450000,\n",
       " 2450000,\n",
       " 2450000,\n",
       " 2450000,\n",
       " 3200000,\n",
       " 3200000,\n",
       " 3200000,\n",
       " 3200000,\n",
       " 3200000,\n",
       " 3200000,\n",
       " 3350000,\n",
       " 3350000,\n",
       " 3350000,\n",
       " 3350000,\n",
       " 3350000,\n",
       " 3350000,\n",
       " 6500000,\n",
       " 6500000,\n",
       " 6500000,\n",
       " 6500000,\n",
       " 6500000,\n",
       " 6500000,\n",
       " 2249000,\n",
       " 2249000,\n",
       " 2590000,\n",
       " 5850000]"
      ]
     },
     "execution_count": 60,
     "metadata": {},
     "output_type": "execute_result"
    }
   ],
   "source": [
    "price_outliers"
   ]
  },
  {
   "cell_type": "code",
   "execution_count": 61,
   "metadata": {},
   "outputs": [],
   "source": [
    "outliers =  immo_classic[immo_classic.price.isin(price_outliers)]"
   ]
  },
  {
   "cell_type": "markdown",
   "metadata": {},
   "source": [
    " > So now we can get the min outliers and the max then subsetting those values from our datas"
   ]
  },
  {
   "cell_type": "code",
   "execution_count": 62,
   "metadata": {},
   "outputs": [
    {
     "data": {
      "text/plain": [
       "2190000"
      ]
     },
     "execution_count": 62,
     "metadata": {},
     "output_type": "execute_result"
    }
   ],
   "source": [
    "min_outliers= outliers.price.min()\n",
    "min_outliers"
   ]
  },
  {
   "cell_type": "code",
   "execution_count": 63,
   "metadata": {},
   "outputs": [
    {
     "data": {
      "text/plain": [
       "9500000"
      ]
     },
     "execution_count": 63,
     "metadata": {},
     "output_type": "execute_result"
    }
   ],
   "source": [
    "max_outliers= outliers.price.max()\n",
    "max_outliers"
   ]
  },
  {
   "cell_type": "code",
   "execution_count": 64,
   "metadata": {},
   "outputs": [],
   "source": [
    "immo_classic_no_big_outliers = immo_classic[immo_classic[\"price\"] < max_outliers]"
   ]
  },
  {
   "cell_type": "code",
   "execution_count": 65,
   "metadata": {},
   "outputs": [
    {
     "data": {
      "text/plain": [
       "6500000"
      ]
     },
     "execution_count": 65,
     "metadata": {},
     "output_type": "execute_result"
    }
   ],
   "source": [
    "immo_classic_no_big_outliers.price.max()"
   ]
  },
  {
   "cell_type": "markdown",
   "metadata": {},
   "source": [
    "# Using IQR"
   ]
  },
  {
   "cell_type": "markdown",
   "metadata": {},
   "source": [
    "IQR tells how spread the middle values are. It can be used to tell when a value is too far from the middle.\n",
    "An outlier is a point which falls more than 1.5 times the interquartile range above the third quartile or below the first quartile."
   ]
  },
  {
   "cell_type": "markdown",
   "metadata": {},
   "source": [
    "##  step 1:\n",
    "- Arrange the data in increasing order\n",
    "- Calculate first(q1) and third quartile(q3)\n",
    "- Find interquartile range (q3-q1)\n",
    "- Find lower bound q1*1.5\n",
    "- Find upper bound q3*1.5\n",
    "- Anything that lies outside of lower and upper bound is an outlier"
   ]
  },
  {
   "cell_type": "markdown",
   "metadata": {},
   "source": [
    "First sorting the dataset"
   ]
  },
  {
   "cell_type": "code",
   "execution_count": 66,
   "metadata": {},
   "outputs": [],
   "source": [
    "immo_classic.sort_values(by=\"price\",axis=0,ascending=True,inplace= True)"
   ]
  },
  {
   "cell_type": "markdown",
   "metadata": {},
   "source": [
    "Finding first quartile and third quartile"
   ]
  },
  {
   "cell_type": "code",
   "execution_count": 67,
   "metadata": {},
   "outputs": [],
   "source": [
    "q1, q3= np.percentile(immo_classic.price,[25,75])"
   ]
  },
  {
   "cell_type": "markdown",
   "metadata": {},
   "source": [
    "Find the IQR which is the difference between third and first quartile"
   ]
  },
  {
   "cell_type": "code",
   "execution_count": 91,
   "metadata": {},
   "outputs": [
    {
     "data": {
      "text/plain": [
       "235000.0"
      ]
     },
     "execution_count": 91,
     "metadata": {},
     "output_type": "execute_result"
    }
   ],
   "source": [
    "q1"
   ]
  },
  {
   "cell_type": "code",
   "execution_count": 92,
   "metadata": {},
   "outputs": [
    {
     "data": {
      "text/plain": [
       "500000.0"
      ]
     },
     "execution_count": 92,
     "metadata": {},
     "output_type": "execute_result"
    }
   ],
   "source": [
    "q3"
   ]
  },
  {
   "cell_type": "code",
   "execution_count": 93,
   "metadata": {},
   "outputs": [
    {
     "data": {
      "text/plain": [
       "265000.0"
      ]
     },
     "execution_count": 93,
     "metadata": {},
     "output_type": "execute_result"
    }
   ],
   "source": [
    "iqr = q3 - q1\n",
    "iqr"
   ]
  },
  {
   "cell_type": "markdown",
   "metadata": {},
   "source": [
    "Find lower and upper bound"
   ]
  },
  {
   "cell_type": "code",
   "execution_count": 97,
   "metadata": {},
   "outputs": [],
   "source": [
    "lower_bound = q1 -(1.5 * iqr) \n",
    "upper_bound = q3 +(1.5 * iqr)"
   ]
  },
  {
   "cell_type": "code",
   "execution_count": 98,
   "metadata": {},
   "outputs": [
    {
     "data": {
      "text/plain": [
       "-162500.0"
      ]
     },
     "execution_count": 98,
     "metadata": {},
     "output_type": "execute_result"
    }
   ],
   "source": [
    "lower_bound"
   ]
  },
  {
   "cell_type": "code",
   "execution_count": 99,
   "metadata": {},
   "outputs": [
    {
     "data": {
      "text/plain": [
       "897500.0"
      ]
     },
     "execution_count": 99,
     "metadata": {},
     "output_type": "execute_result"
    }
   ],
   "source": [
    "upper_bound "
   ]
  },
  {
   "cell_type": "markdown",
   "metadata": {},
   "source": [
    "## How to Calculate the Confidence Interval?\n",
    "The interval is calculated using the following steps:\n",
    "\n",
    "1. Gather the sample data.\n",
    "2. Calculate the sample mean x̅.\n",
    "3. Determine whether a population’s standard deviation is known or unknown.\n",
    "4. If a population’s standard deviation is known, we can use a z-score for the corresponding confidence level.\n",
    "5. If a population’s standard deviation is unknown, we can use a t-statistic for the corresponding confidence level.\n",
    "6. Find the lower and upper bounds of the confidence interval using the following formulas:\n",
    "\n",
    "- a. Known population standard deviation\n",
    "![alt text](https://cdn.corporatefinanceinstitute.com/assets/confidence-interval1.png)\n",
    "\n",
    " - b. Unknown population standard deviation\n",
    "\n",
    "![alt text](https://cdn.corporatefinanceinstitute.com/assets/confidence-"
   ]
  },
  {
   "cell_type": "markdown",
   "metadata": {},
   "source": [
    "# Dates stuff"
   ]
  },
  {
   "cell_type": "code",
   "execution_count": 74,
   "metadata": {},
   "outputs": [
    {
     "data": {
      "text/plain": [
       "price                   int64\n",
       "type                   object\n",
       "subtype                object\n",
       "constructionYear      float64\n",
       "condition              object\n",
       "room_number           float64\n",
       "cuisine_type           object\n",
       "heatingType            object\n",
       "mètres carrés           int64\n",
       "prix mètres carrés    float64\n",
       "parking extérieur     float64\n",
       "atticExists              bool\n",
       "basementExists           bool\n",
       "hasSwimmingPool          bool\n",
       "zip                     int64\n",
       "city                   object\n",
       "municipalities         object\n",
       "parking intérieur     float64\n",
       "lng                   float64\n",
       "lat                   float64\n",
       "id                      int64\n",
       "company_name           object\n",
       "dtype: object"
      ]
     },
     "execution_count": 74,
     "metadata": {},
     "output_type": "execute_result"
    }
   ],
   "source": [
    "immo_classic.dtypes"
   ]
  },
  {
   "cell_type": "code",
   "execution_count": 75,
   "metadata": {},
   "outputs": [
    {
     "data": {
      "text/plain": [
       "11061    1933.0\n",
       "9551     1974.0\n",
       "9550     1974.0\n",
       "9549     1974.0\n",
       "9548     1974.0\n",
       "          ...  \n",
       "9898     1918.0\n",
       "9903     1918.0\n",
       "1868     2003.0\n",
       "1867     2003.0\n",
       "1866     2003.0\n",
       "Name: constructionYear, Length: 11865, dtype: object"
      ]
     },
     "execution_count": 75,
     "metadata": {},
     "output_type": "execute_result"
    }
   ],
   "source": [
    "immo_classic.constructionYear.astype(\"str\")"
   ]
  },
  {
   "cell_type": "code",
   "execution_count": 76,
   "metadata": {},
   "outputs": [],
   "source": [
    "immo_classic.constructionYear = pd.to_datetime(immo_classic.constructionYear,format=\"%Y\")"
   ]
  },
  {
   "cell_type": "code",
   "execution_count": 77,
   "metadata": {},
   "outputs": [
    {
     "data": {
      "text/plain": [
       "11061   1933-01-01\n",
       "9551    1974-01-01\n",
       "9550    1974-01-01\n",
       "9549    1974-01-01\n",
       "9548    1974-01-01\n",
       "           ...    \n",
       "9898    1918-01-01\n",
       "9903    1918-01-01\n",
       "1868    2003-01-01\n",
       "1867    2003-01-01\n",
       "1866    2003-01-01\n",
       "Name: constructionYear, Length: 11865, dtype: datetime64[ns]"
      ]
     },
     "execution_count": 77,
     "metadata": {},
     "output_type": "execute_result"
    }
   ],
   "source": [
    "immo_classic.constructionYear"
   ]
  },
  {
   "cell_type": "code",
   "execution_count": 78,
   "metadata": {},
   "outputs": [
    {
     "data": {
      "text/plain": [
       "price                          int64\n",
       "type                          object\n",
       "subtype                       object\n",
       "constructionYear      datetime64[ns]\n",
       "condition                     object\n",
       "room_number                  float64\n",
       "cuisine_type                  object\n",
       "heatingType                   object\n",
       "mètres carrés                  int64\n",
       "prix mètres carrés           float64\n",
       "parking extérieur            float64\n",
       "atticExists                     bool\n",
       "basementExists                  bool\n",
       "hasSwimmingPool                 bool\n",
       "zip                            int64\n",
       "city                          object\n",
       "municipalities                object\n",
       "parking intérieur            float64\n",
       "lng                          float64\n",
       "lat                          float64\n",
       "id                             int64\n",
       "company_name                  object\n",
       "dtype: object"
      ]
     },
     "execution_count": 78,
     "metadata": {},
     "output_type": "execute_result"
    }
   ],
   "source": [
    "immo_classic.dtypes"
   ]
  },
  {
   "cell_type": "code",
   "execution_count": 79,
   "metadata": {},
   "outputs": [],
   "source": [
    "immo_classic= immo_classic.set_index(\"constructionYear\")"
   ]
  },
  {
   "cell_type": "code",
   "execution_count": 80,
   "metadata": {},
   "outputs": [
    {
     "data": {
      "text/plain": [
       "True"
      ]
     },
     "execution_count": 80,
     "metadata": {},
     "output_type": "execute_result"
    }
   ],
   "source": [
    "immo_classic.index.has_duplicates"
   ]
  },
  {
   "cell_type": "code",
   "execution_count": 81,
   "metadata": {},
   "outputs": [
    {
     "data": {
      "text/html": [
       "<div>\n",
       "<style scoped>\n",
       "    .dataframe tbody tr th:only-of-type {\n",
       "        vertical-align: middle;\n",
       "    }\n",
       "\n",
       "    .dataframe tbody tr th {\n",
       "        vertical-align: top;\n",
       "    }\n",
       "\n",
       "    .dataframe thead th {\n",
       "        text-align: right;\n",
       "    }\n",
       "</style>\n",
       "<table border=\"1\" class=\"dataframe\">\n",
       "  <thead>\n",
       "    <tr style=\"text-align: right;\">\n",
       "      <th></th>\n",
       "      <th>price</th>\n",
       "      <th>type</th>\n",
       "      <th>subtype</th>\n",
       "      <th>condition</th>\n",
       "      <th>room_number</th>\n",
       "      <th>cuisine_type</th>\n",
       "      <th>heatingType</th>\n",
       "      <th>mètres carrés</th>\n",
       "      <th>prix mètres carrés</th>\n",
       "      <th>parking extérieur</th>\n",
       "      <th>...</th>\n",
       "      <th>basementExists</th>\n",
       "      <th>hasSwimmingPool</th>\n",
       "      <th>zip</th>\n",
       "      <th>city</th>\n",
       "      <th>municipalities</th>\n",
       "      <th>parking intérieur</th>\n",
       "      <th>lng</th>\n",
       "      <th>lat</th>\n",
       "      <th>id</th>\n",
       "      <th>company_name</th>\n",
       "    </tr>\n",
       "    <tr>\n",
       "      <th>constructionYear</th>\n",
       "      <th></th>\n",
       "      <th></th>\n",
       "      <th></th>\n",
       "      <th></th>\n",
       "      <th></th>\n",
       "      <th></th>\n",
       "      <th></th>\n",
       "      <th></th>\n",
       "      <th></th>\n",
       "      <th></th>\n",
       "      <th></th>\n",
       "      <th></th>\n",
       "      <th></th>\n",
       "      <th></th>\n",
       "      <th></th>\n",
       "      <th></th>\n",
       "      <th></th>\n",
       "      <th></th>\n",
       "      <th></th>\n",
       "      <th></th>\n",
       "      <th></th>\n",
       "    </tr>\n",
       "  </thead>\n",
       "  <tbody>\n",
       "    <tr>\n",
       "      <th>1763-01-01</th>\n",
       "      <td>159000</td>\n",
       "      <td>house</td>\n",
       "      <td>house</td>\n",
       "      <td>to renovate</td>\n",
       "      <td>5.0</td>\n",
       "      <td>semi equipped</td>\n",
       "      <td>fueloil</td>\n",
       "      <td>5</td>\n",
       "      <td>31800.0</td>\n",
       "      <td>0.0</td>\n",
       "      <td>...</td>\n",
       "      <td>True</td>\n",
       "      <td>False</td>\n",
       "      <td>6460</td>\n",
       "      <td>Salles</td>\n",
       "      <td>Hainaut</td>\n",
       "      <td>1.0</td>\n",
       "      <td>4.247403</td>\n",
       "      <td>50.056010</td>\n",
       "      <td>8562215</td>\n",
       "      <td>confort invest</td>\n",
       "    </tr>\n",
       "    <tr>\n",
       "      <th>1763-01-01</th>\n",
       "      <td>159000</td>\n",
       "      <td>house</td>\n",
       "      <td>house</td>\n",
       "      <td>to renovate</td>\n",
       "      <td>5.0</td>\n",
       "      <td>semi equipped</td>\n",
       "      <td>fueloil</td>\n",
       "      <td>5</td>\n",
       "      <td>31800.0</td>\n",
       "      <td>0.0</td>\n",
       "      <td>...</td>\n",
       "      <td>True</td>\n",
       "      <td>False</td>\n",
       "      <td>6460</td>\n",
       "      <td>Saint-Remy</td>\n",
       "      <td>Hainaut</td>\n",
       "      <td>1.0</td>\n",
       "      <td>4.309222</td>\n",
       "      <td>50.050354</td>\n",
       "      <td>8562215</td>\n",
       "      <td>confort invest</td>\n",
       "    </tr>\n",
       "    <tr>\n",
       "      <th>1763-01-01</th>\n",
       "      <td>159000</td>\n",
       "      <td>house</td>\n",
       "      <td>house</td>\n",
       "      <td>to renovate</td>\n",
       "      <td>5.0</td>\n",
       "      <td>semi equipped</td>\n",
       "      <td>fueloil</td>\n",
       "      <td>5</td>\n",
       "      <td>31800.0</td>\n",
       "      <td>0.0</td>\n",
       "      <td>...</td>\n",
       "      <td>True</td>\n",
       "      <td>False</td>\n",
       "      <td>6460</td>\n",
       "      <td>Robechies</td>\n",
       "      <td>Hainaut</td>\n",
       "      <td>1.0</td>\n",
       "      <td>4.278378</td>\n",
       "      <td>50.072802</td>\n",
       "      <td>8562215</td>\n",
       "      <td>confort invest</td>\n",
       "    </tr>\n",
       "    <tr>\n",
       "      <th>1763-01-01</th>\n",
       "      <td>159000</td>\n",
       "      <td>house</td>\n",
       "      <td>house</td>\n",
       "      <td>to renovate</td>\n",
       "      <td>5.0</td>\n",
       "      <td>semi equipped</td>\n",
       "      <td>fueloil</td>\n",
       "      <td>5</td>\n",
       "      <td>31800.0</td>\n",
       "      <td>0.0</td>\n",
       "      <td>...</td>\n",
       "      <td>True</td>\n",
       "      <td>False</td>\n",
       "      <td>6460</td>\n",
       "      <td>Chimay</td>\n",
       "      <td>Hainaut</td>\n",
       "      <td>1.0</td>\n",
       "      <td>4.317334</td>\n",
       "      <td>50.047927</td>\n",
       "      <td>8562215</td>\n",
       "      <td>confort invest</td>\n",
       "    </tr>\n",
       "    <tr>\n",
       "      <th>1763-01-01</th>\n",
       "      <td>159000</td>\n",
       "      <td>house</td>\n",
       "      <td>house</td>\n",
       "      <td>to renovate</td>\n",
       "      <td>5.0</td>\n",
       "      <td>semi equipped</td>\n",
       "      <td>fueloil</td>\n",
       "      <td>5</td>\n",
       "      <td>31800.0</td>\n",
       "      <td>0.0</td>\n",
       "      <td>...</td>\n",
       "      <td>True</td>\n",
       "      <td>False</td>\n",
       "      <td>6460</td>\n",
       "      <td>Bailièvre</td>\n",
       "      <td>Hainaut</td>\n",
       "      <td>1.0</td>\n",
       "      <td>4.238617</td>\n",
       "      <td>50.069276</td>\n",
       "      <td>8562215</td>\n",
       "      <td>confort invest</td>\n",
       "    </tr>\n",
       "  </tbody>\n",
       "</table>\n",
       "<p>5 rows × 21 columns</p>\n",
       "</div>"
      ],
      "text/plain": [
       "                   price   type subtype    condition  room_number  \\\n",
       "constructionYear                                                    \n",
       "1763-01-01        159000  house   house  to renovate          5.0   \n",
       "1763-01-01        159000  house   house  to renovate          5.0   \n",
       "1763-01-01        159000  house   house  to renovate          5.0   \n",
       "1763-01-01        159000  house   house  to renovate          5.0   \n",
       "1763-01-01        159000  house   house  to renovate          5.0   \n",
       "\n",
       "                   cuisine_type heatingType  mètres carrés  \\\n",
       "constructionYear                                             \n",
       "1763-01-01        semi equipped     fueloil              5   \n",
       "1763-01-01        semi equipped     fueloil              5   \n",
       "1763-01-01        semi equipped     fueloil              5   \n",
       "1763-01-01        semi equipped     fueloil              5   \n",
       "1763-01-01        semi equipped     fueloil              5   \n",
       "\n",
       "                  prix mètres carrés  parking extérieur  ...  basementExists  \\\n",
       "constructionYear                                         ...                   \n",
       "1763-01-01                   31800.0                0.0  ...            True   \n",
       "1763-01-01                   31800.0                0.0  ...            True   \n",
       "1763-01-01                   31800.0                0.0  ...            True   \n",
       "1763-01-01                   31800.0                0.0  ...            True   \n",
       "1763-01-01                   31800.0                0.0  ...            True   \n",
       "\n",
       "                  hasSwimmingPool   zip        city municipalities  \\\n",
       "constructionYear                                                     \n",
       "1763-01-01                  False  6460      Salles        Hainaut   \n",
       "1763-01-01                  False  6460  Saint-Remy        Hainaut   \n",
       "1763-01-01                  False  6460   Robechies        Hainaut   \n",
       "1763-01-01                  False  6460      Chimay        Hainaut   \n",
       "1763-01-01                  False  6460   Bailièvre        Hainaut   \n",
       "\n",
       "                 parking intérieur       lng        lat       id  \\\n",
       "constructionYear                                                   \n",
       "1763-01-01                     1.0  4.247403  50.056010  8562215   \n",
       "1763-01-01                     1.0  4.309222  50.050354  8562215   \n",
       "1763-01-01                     1.0  4.278378  50.072802  8562215   \n",
       "1763-01-01                     1.0  4.317334  50.047927  8562215   \n",
       "1763-01-01                     1.0  4.238617  50.069276  8562215   \n",
       "\n",
       "                    company_name  \n",
       "constructionYear                  \n",
       "1763-01-01        confort invest  \n",
       "1763-01-01        confort invest  \n",
       "1763-01-01        confort invest  \n",
       "1763-01-01        confort invest  \n",
       "1763-01-01        confort invest  \n",
       "\n",
       "[5 rows x 21 columns]"
      ]
     },
     "execution_count": 81,
     "metadata": {},
     "output_type": "execute_result"
    }
   ],
   "source": [
    "immo_classic.sort_index(ascending = True).head()"
   ]
  },
  {
   "cell_type": "code",
   "execution_count": 82,
   "metadata": {},
   "outputs": [],
   "source": [
    "immo_classic_year= immo_classic.resample('A').mean()"
   ]
  },
  {
   "cell_type": "code",
   "execution_count": 83,
   "metadata": {},
   "outputs": [
    {
     "data": {
      "text/html": [
       "<div>\n",
       "<style scoped>\n",
       "    .dataframe tbody tr th:only-of-type {\n",
       "        vertical-align: middle;\n",
       "    }\n",
       "\n",
       "    .dataframe tbody tr th {\n",
       "        vertical-align: top;\n",
       "    }\n",
       "\n",
       "    .dataframe thead th {\n",
       "        text-align: right;\n",
       "    }\n",
       "</style>\n",
       "<table border=\"1\" class=\"dataframe\">\n",
       "  <thead>\n",
       "    <tr style=\"text-align: right;\">\n",
       "      <th></th>\n",
       "      <th>price</th>\n",
       "      <th>room_number</th>\n",
       "      <th>mètres carrés</th>\n",
       "      <th>prix mètres carrés</th>\n",
       "      <th>parking extérieur</th>\n",
       "      <th>atticExists</th>\n",
       "      <th>basementExists</th>\n",
       "      <th>hasSwimmingPool</th>\n",
       "      <th>zip</th>\n",
       "      <th>parking intérieur</th>\n",
       "      <th>lng</th>\n",
       "      <th>lat</th>\n",
       "      <th>id</th>\n",
       "    </tr>\n",
       "    <tr>\n",
       "      <th>constructionYear</th>\n",
       "      <th></th>\n",
       "      <th></th>\n",
       "      <th></th>\n",
       "      <th></th>\n",
       "      <th></th>\n",
       "      <th></th>\n",
       "      <th></th>\n",
       "      <th></th>\n",
       "      <th></th>\n",
       "      <th></th>\n",
       "      <th></th>\n",
       "      <th></th>\n",
       "      <th></th>\n",
       "    </tr>\n",
       "  </thead>\n",
       "  <tbody>\n",
       "    <tr>\n",
       "      <th>1763-12-31</th>\n",
       "      <td>159000.0</td>\n",
       "      <td>5.0</td>\n",
       "      <td>5.0</td>\n",
       "      <td>31800.0</td>\n",
       "      <td>0.0</td>\n",
       "      <td>0.0</td>\n",
       "      <td>1.0</td>\n",
       "      <td>0.0</td>\n",
       "      <td>6460.0</td>\n",
       "      <td>1.0</td>\n",
       "      <td>4.275637</td>\n",
       "      <td>50.05529</td>\n",
       "      <td>8562215.0</td>\n",
       "    </tr>\n",
       "    <tr>\n",
       "      <th>1764-12-31</th>\n",
       "      <td>NaN</td>\n",
       "      <td>NaN</td>\n",
       "      <td>NaN</td>\n",
       "      <td>NaN</td>\n",
       "      <td>NaN</td>\n",
       "      <td>NaN</td>\n",
       "      <td>NaN</td>\n",
       "      <td>NaN</td>\n",
       "      <td>NaN</td>\n",
       "      <td>NaN</td>\n",
       "      <td>NaN</td>\n",
       "      <td>NaN</td>\n",
       "      <td>NaN</td>\n",
       "    </tr>\n",
       "    <tr>\n",
       "      <th>1765-12-31</th>\n",
       "      <td>NaN</td>\n",
       "      <td>NaN</td>\n",
       "      <td>NaN</td>\n",
       "      <td>NaN</td>\n",
       "      <td>NaN</td>\n",
       "      <td>NaN</td>\n",
       "      <td>NaN</td>\n",
       "      <td>NaN</td>\n",
       "      <td>NaN</td>\n",
       "      <td>NaN</td>\n",
       "      <td>NaN</td>\n",
       "      <td>NaN</td>\n",
       "      <td>NaN</td>\n",
       "    </tr>\n",
       "    <tr>\n",
       "      <th>1766-12-31</th>\n",
       "      <td>NaN</td>\n",
       "      <td>NaN</td>\n",
       "      <td>NaN</td>\n",
       "      <td>NaN</td>\n",
       "      <td>NaN</td>\n",
       "      <td>NaN</td>\n",
       "      <td>NaN</td>\n",
       "      <td>NaN</td>\n",
       "      <td>NaN</td>\n",
       "      <td>NaN</td>\n",
       "      <td>NaN</td>\n",
       "      <td>NaN</td>\n",
       "      <td>NaN</td>\n",
       "    </tr>\n",
       "    <tr>\n",
       "      <th>1767-12-31</th>\n",
       "      <td>NaN</td>\n",
       "      <td>NaN</td>\n",
       "      <td>NaN</td>\n",
       "      <td>NaN</td>\n",
       "      <td>NaN</td>\n",
       "      <td>NaN</td>\n",
       "      <td>NaN</td>\n",
       "      <td>NaN</td>\n",
       "      <td>NaN</td>\n",
       "      <td>NaN</td>\n",
       "      <td>NaN</td>\n",
       "      <td>NaN</td>\n",
       "      <td>NaN</td>\n",
       "    </tr>\n",
       "  </tbody>\n",
       "</table>\n",
       "</div>"
      ],
      "text/plain": [
       "                     price  room_number  mètres carrés  prix mètres carrés  \\\n",
       "constructionYear                                                             \n",
       "1763-12-31        159000.0          5.0            5.0             31800.0   \n",
       "1764-12-31             NaN          NaN            NaN                 NaN   \n",
       "1765-12-31             NaN          NaN            NaN                 NaN   \n",
       "1766-12-31             NaN          NaN            NaN                 NaN   \n",
       "1767-12-31             NaN          NaN            NaN                 NaN   \n",
       "\n",
       "                  parking extérieur  atticExists  basementExists  \\\n",
       "constructionYear                                                   \n",
       "1763-12-31                      0.0          0.0             1.0   \n",
       "1764-12-31                      NaN          NaN             NaN   \n",
       "1765-12-31                      NaN          NaN             NaN   \n",
       "1766-12-31                      NaN          NaN             NaN   \n",
       "1767-12-31                      NaN          NaN             NaN   \n",
       "\n",
       "                  hasSwimmingPool     zip  parking intérieur       lng  \\\n",
       "constructionYear                                                         \n",
       "1763-12-31                    0.0  6460.0                1.0  4.275637   \n",
       "1764-12-31                    NaN     NaN                NaN       NaN   \n",
       "1765-12-31                    NaN     NaN                NaN       NaN   \n",
       "1766-12-31                    NaN     NaN                NaN       NaN   \n",
       "1767-12-31                    NaN     NaN                NaN       NaN   \n",
       "\n",
       "                       lat         id  \n",
       "constructionYear                       \n",
       "1763-12-31        50.05529  8562215.0  \n",
       "1764-12-31             NaN        NaN  \n",
       "1765-12-31             NaN        NaN  \n",
       "1766-12-31             NaN        NaN  \n",
       "1767-12-31             NaN        NaN  "
      ]
     },
     "execution_count": 83,
     "metadata": {},
     "output_type": "execute_result"
    }
   ],
   "source": [
    "immo_classic_year.head()"
   ]
  },
  {
   "cell_type": "code",
   "execution_count": 84,
   "metadata": {},
   "outputs": [
    {
     "data": {
      "text/html": [
       "<div>\n",
       "<style scoped>\n",
       "    .dataframe tbody tr th:only-of-type {\n",
       "        vertical-align: middle;\n",
       "    }\n",
       "\n",
       "    .dataframe tbody tr th {\n",
       "        vertical-align: top;\n",
       "    }\n",
       "\n",
       "    .dataframe thead th {\n",
       "        text-align: right;\n",
       "    }\n",
       "</style>\n",
       "<table border=\"1\" class=\"dataframe\">\n",
       "  <thead>\n",
       "    <tr style=\"text-align: right;\">\n",
       "      <th></th>\n",
       "      <th>price</th>\n",
       "      <th>room_number</th>\n",
       "      <th>mètres carrés</th>\n",
       "      <th>prix mètres carrés</th>\n",
       "      <th>parking extérieur</th>\n",
       "      <th>atticExists</th>\n",
       "      <th>basementExists</th>\n",
       "      <th>hasSwimmingPool</th>\n",
       "      <th>zip</th>\n",
       "      <th>parking intérieur</th>\n",
       "      <th>lng</th>\n",
       "      <th>lat</th>\n",
       "      <th>id</th>\n",
       "    </tr>\n",
       "    <tr>\n",
       "      <th>constructionYear</th>\n",
       "      <th></th>\n",
       "      <th></th>\n",
       "      <th></th>\n",
       "      <th></th>\n",
       "      <th></th>\n",
       "      <th></th>\n",
       "      <th></th>\n",
       "      <th></th>\n",
       "      <th></th>\n",
       "      <th></th>\n",
       "      <th></th>\n",
       "      <th></th>\n",
       "      <th></th>\n",
       "    </tr>\n",
       "  </thead>\n",
       "  <tbody>\n",
       "    <tr>\n",
       "      <th>2019-12-31</th>\n",
       "      <td>460471.741748</td>\n",
       "      <td>2.619417</td>\n",
       "      <td>130.376699</td>\n",
       "      <td>11667.378155</td>\n",
       "      <td>1.551456</td>\n",
       "      <td>0.126214</td>\n",
       "      <td>0.236893</td>\n",
       "      <td>0.011650</td>\n",
       "      <td>6034.563107</td>\n",
       "      <td>0.458252</td>\n",
       "      <td>4.042292</td>\n",
       "      <td>50.914026</td>\n",
       "      <td>8.704223e+06</td>\n",
       "    </tr>\n",
       "    <tr>\n",
       "      <th>2020-12-31</th>\n",
       "      <td>333380.098642</td>\n",
       "      <td>2.518227</td>\n",
       "      <td>115.277341</td>\n",
       "      <td>14885.888892</td>\n",
       "      <td>1.419585</td>\n",
       "      <td>0.188706</td>\n",
       "      <td>0.142959</td>\n",
       "      <td>0.000715</td>\n",
       "      <td>5471.235883</td>\n",
       "      <td>0.777698</td>\n",
       "      <td>4.392742</td>\n",
       "      <td>50.849957</td>\n",
       "      <td>8.772417e+06</td>\n",
       "    </tr>\n",
       "    <tr>\n",
       "      <th>2021-12-31</th>\n",
       "      <td>335998.279661</td>\n",
       "      <td>2.194915</td>\n",
       "      <td>112.351695</td>\n",
       "      <td>8856.178178</td>\n",
       "      <td>0.224576</td>\n",
       "      <td>0.046610</td>\n",
       "      <td>0.177966</td>\n",
       "      <td>0.000000</td>\n",
       "      <td>4814.817797</td>\n",
       "      <td>0.512712</td>\n",
       "      <td>4.307428</td>\n",
       "      <td>50.919273</td>\n",
       "      <td>8.823709e+06</td>\n",
       "    </tr>\n",
       "    <tr>\n",
       "      <th>2022-12-31</th>\n",
       "      <td>443507.075472</td>\n",
       "      <td>1.933962</td>\n",
       "      <td>101.858491</td>\n",
       "      <td>6622.491887</td>\n",
       "      <td>2.084906</td>\n",
       "      <td>0.000000</td>\n",
       "      <td>0.603774</td>\n",
       "      <td>0.169811</td>\n",
       "      <td>2709.433962</td>\n",
       "      <td>0.481132</td>\n",
       "      <td>4.245390</td>\n",
       "      <td>50.896532</td>\n",
       "      <td>8.897208e+06</td>\n",
       "    </tr>\n",
       "    <tr>\n",
       "      <th>2023-12-31</th>\n",
       "      <td>532000.000000</td>\n",
       "      <td>3.000000</td>\n",
       "      <td>192.000000</td>\n",
       "      <td>2770.830000</td>\n",
       "      <td>0.000000</td>\n",
       "      <td>0.000000</td>\n",
       "      <td>0.000000</td>\n",
       "      <td>0.000000</td>\n",
       "      <td>8500.000000</td>\n",
       "      <td>1.000000</td>\n",
       "      <td>3.278415</td>\n",
       "      <td>50.817881</td>\n",
       "      <td>8.995173e+06</td>\n",
       "    </tr>\n",
       "  </tbody>\n",
       "</table>\n",
       "</div>"
      ],
      "text/plain": [
       "                          price  room_number  mètres carrés  \\\n",
       "constructionYear                                              \n",
       "2019-12-31        460471.741748     2.619417     130.376699   \n",
       "2020-12-31        333380.098642     2.518227     115.277341   \n",
       "2021-12-31        335998.279661     2.194915     112.351695   \n",
       "2022-12-31        443507.075472     1.933962     101.858491   \n",
       "2023-12-31        532000.000000     3.000000     192.000000   \n",
       "\n",
       "                  prix mètres carrés  parking extérieur  atticExists  \\\n",
       "constructionYear                                                       \n",
       "2019-12-31              11667.378155           1.551456     0.126214   \n",
       "2020-12-31              14885.888892           1.419585     0.188706   \n",
       "2021-12-31               8856.178178           0.224576     0.046610   \n",
       "2022-12-31               6622.491887           2.084906     0.000000   \n",
       "2023-12-31               2770.830000           0.000000     0.000000   \n",
       "\n",
       "                  basementExists  hasSwimmingPool          zip  \\\n",
       "constructionYear                                                 \n",
       "2019-12-31              0.236893         0.011650  6034.563107   \n",
       "2020-12-31              0.142959         0.000715  5471.235883   \n",
       "2021-12-31              0.177966         0.000000  4814.817797   \n",
       "2022-12-31              0.603774         0.169811  2709.433962   \n",
       "2023-12-31              0.000000         0.000000  8500.000000   \n",
       "\n",
       "                  parking intérieur       lng        lat            id  \n",
       "constructionYear                                                        \n",
       "2019-12-31                 0.458252  4.042292  50.914026  8.704223e+06  \n",
       "2020-12-31                 0.777698  4.392742  50.849957  8.772417e+06  \n",
       "2021-12-31                 0.512712  4.307428  50.919273  8.823709e+06  \n",
       "2022-12-31                 0.481132  4.245390  50.896532  8.897208e+06  \n",
       "2023-12-31                 1.000000  3.278415  50.817881  8.995173e+06  "
      ]
     },
     "execution_count": 84,
     "metadata": {},
     "output_type": "execute_result"
    }
   ],
   "source": [
    "immo_classic_year.tail()"
   ]
  },
  {
   "cell_type": "code",
   "execution_count": 85,
   "metadata": {},
   "outputs": [
    {
     "data": {
      "text/plain": [
       "Index(['price', 'room_number', 'mètres carrés', 'prix mètres carrés',\n",
       "       'parking extérieur', 'atticExists', 'basementExists', 'hasSwimmingPool',\n",
       "       'zip', 'parking intérieur', 'lng', 'lat', 'id'],\n",
       "      dtype='object')"
      ]
     },
     "execution_count": 85,
     "metadata": {},
     "output_type": "execute_result"
    }
   ],
   "source": [
    "immo_classic_year.columns"
   ]
  },
  {
   "cell_type": "code",
   "execution_count": 86,
   "metadata": {},
   "outputs": [
    {
     "data": {
      "image/png": "[encoded data removed]",
      "text/plain": [
       "<Figure size 972x648 with 1 Axes>"
      ]
     },
     "metadata": {
      "needs_background": "light"
     },
     "output_type": "display_data"
    }
   ],
   "source": [
    "# makes the plot and assign it to a variable\n",
    "appl_open = immo_classic_year['price'].plot(title = \"price\")\n",
    "\n",
    "# changes the size of the graph\n",
    "fig = appl_open.get_figure()\n",
    "fig.set_size_inches(13.5, 9)"
   ]
  },
  {
   "cell_type": "code",
   "execution_count": null,
   "metadata": {},
   "outputs": [],
   "source": []
  }
 ],
 "metadata": {
  "kernelspec": {
   "display_name": "becode",
   "language": "python",
   "name": "becode"
  },
  "language_info": {
   "codemirror_mode": {
    "name": "ipython",
    "version": 3
   },
   "file_extension": ".py",
   "mimetype": "text/x-python",
   "name": "python",
   "nbconvert_exporter": "python",
   "pygments_lexer": "ipython3",
   "version": "3.6.7"
  }
 },
 "nbformat": 4,
 "nbformat_minor": 4
}
