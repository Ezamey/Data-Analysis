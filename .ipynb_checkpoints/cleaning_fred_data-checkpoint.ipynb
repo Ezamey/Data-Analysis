{
 "cells": [
  {
   "cell_type": "code",
   "execution_count": 4,
   "metadata": {},
   "outputs": [],
   "source": [
    "#imports\n",
    "import pandas as pd"
   ]
  },
  {
   "cell_type": "code",
   "execution_count": 5,
   "metadata": {},
   "outputs": [],
   "source": [
    "pd.options.display.max_columns = None"
   ]
  },
  {
   "cell_type": "code",
   "execution_count": 6,
   "metadata": {},
   "outputs": [],
   "source": [
    "d= \"stocks_fred.csv\""
   ]
  },
  {
   "cell_type": "code",
   "execution_count": 7,
   "metadata": {},
   "outputs": [],
   "source": [
    "data = pd.read_csv(d)"
   ]
  },
  {
   "cell_type": "code",
   "execution_count": 8,
   "metadata": {},
   "outputs": [
    {
     "data": {
      "text/html": [
       "<div>\n",
       "<style scoped>\n",
       "    .dataframe tbody tr th:only-of-type {\n",
       "        vertical-align: middle;\n",
       "    }\n",
       "\n",
       "    .dataframe tbody tr th {\n",
       "        vertical-align: top;\n",
       "    }\n",
       "\n",
       "    .dataframe thead th {\n",
       "        text-align: right;\n",
       "    }\n",
       "</style>\n",
       "<table border=\"1\" class=\"dataframe\">\n",
       "  <thead>\n",
       "    <tr style=\"text-align: right;\">\n",
       "      <th></th>\n",
       "      <th>Locality</th>\n",
       "      <th>Postal code</th>\n",
       "      <th>Type</th>\n",
       "      <th>Build</th>\n",
       "      <th>Price</th>\n",
       "      <th>Number_rooms</th>\n",
       "      <th>Fully_equipped_kitchen</th>\n",
       "      <th>Furnished</th>\n",
       "      <th>Open_fire</th>\n",
       "      <th>Terrace</th>\n",
       "      <th>Ter_Area</th>\n",
       "      <th>Garden</th>\n",
       "      <th>Area_garden</th>\n",
       "      <th>Livable_surface_area</th>\n",
       "      <th>Surface_area_land</th>\n",
       "      <th>Numb_facades</th>\n",
       "      <th>Swimming_pool</th>\n",
       "      <th>State</th>\n",
       "    </tr>\n",
       "  </thead>\n",
       "  <tbody>\n",
       "    <tr>\n",
       "      <th>0</th>\n",
       "      <td>Hoboken</td>\n",
       "      <td>2660</td>\n",
       "      <td>Appartement</td>\n",
       "      <td>1</td>\n",
       "      <td>149000€</td>\n",
       "      <td>2.0</td>\n",
       "      <td>1</td>\n",
       "      <td>0</td>\n",
       "      <td>0</td>\n",
       "      <td>1</td>\n",
       "      <td>1.0</td>\n",
       "      <td>0</td>\n",
       "      <td>NaN</td>\n",
       "      <td>92.0</td>\n",
       "      <td>NaN</td>\n",
       "      <td>3.0</td>\n",
       "      <td>0</td>\n",
       "      <td>À rénover</td>\n",
       "    </tr>\n",
       "    <tr>\n",
       "      <th>1</th>\n",
       "      <td>Aywaille</td>\n",
       "      <td>4920</td>\n",
       "      <td>Résidence de la Heid</td>\n",
       "      <td>0</td>\n",
       "      <td>De 190000€ À 235000€</td>\n",
       "      <td>NaN</td>\n",
       "      <td>0</td>\n",
       "      <td>0</td>\n",
       "      <td>0</td>\n",
       "      <td>0</td>\n",
       "      <td>NaN</td>\n",
       "      <td>0</td>\n",
       "      <td>NaN</td>\n",
       "      <td>NaN</td>\n",
       "      <td>NaN</td>\n",
       "      <td>NaN</td>\n",
       "      <td>0</td>\n",
       "      <td>NaN</td>\n",
       "    </tr>\n",
       "    <tr>\n",
       "      <th>2</th>\n",
       "      <td>Uccle</td>\n",
       "      <td>1180</td>\n",
       "      <td>Appartement</td>\n",
       "      <td>1</td>\n",
       "      <td>198000€</td>\n",
       "      <td>1.0</td>\n",
       "      <td>0</td>\n",
       "      <td>0</td>\n",
       "      <td>0</td>\n",
       "      <td>1</td>\n",
       "      <td>15.0</td>\n",
       "      <td>0</td>\n",
       "      <td>NaN</td>\n",
       "      <td>76.0</td>\n",
       "      <td>NaN</td>\n",
       "      <td>2.0</td>\n",
       "      <td>0</td>\n",
       "      <td>Bon</td>\n",
       "    </tr>\n",
       "    <tr>\n",
       "      <th>3</th>\n",
       "      <td>Ganshoren</td>\n",
       "      <td>1083</td>\n",
       "      <td>Appartement</td>\n",
       "      <td>1</td>\n",
       "      <td>265000€</td>\n",
       "      <td>4.0</td>\n",
       "      <td>0</td>\n",
       "      <td>0</td>\n",
       "      <td>0</td>\n",
       "      <td>1</td>\n",
       "      <td>13.0</td>\n",
       "      <td>0</td>\n",
       "      <td>NaN</td>\n",
       "      <td>90.0</td>\n",
       "      <td>NaN</td>\n",
       "      <td>4.0</td>\n",
       "      <td>0</td>\n",
       "      <td>Excellent état</td>\n",
       "    </tr>\n",
       "    <tr>\n",
       "      <th>4</th>\n",
       "      <td>Ostende</td>\n",
       "      <td>8400</td>\n",
       "      <td>Appartement</td>\n",
       "      <td>1</td>\n",
       "      <td>410000€</td>\n",
       "      <td>3.0</td>\n",
       "      <td>0</td>\n",
       "      <td>0</td>\n",
       "      <td>0</td>\n",
       "      <td>1</td>\n",
       "      <td>2.0</td>\n",
       "      <td>0</td>\n",
       "      <td>NaN</td>\n",
       "      <td>109.0</td>\n",
       "      <td>NaN</td>\n",
       "      <td>NaN</td>\n",
       "      <td>0</td>\n",
       "      <td>À rénover</td>\n",
       "    </tr>\n",
       "  </tbody>\n",
       "</table>\n",
       "</div>"
      ],
      "text/plain": [
       "    Locality  Postal code                  Type  Build                 Price  \\\n",
       "0    Hoboken         2660           Appartement      1               149000€   \n",
       "1   Aywaille         4920  Résidence de la Heid      0  De 190000€ À 235000€   \n",
       "2      Uccle         1180           Appartement      1               198000€   \n",
       "3  Ganshoren         1083           Appartement      1               265000€   \n",
       "4    Ostende         8400           Appartement      1               410000€   \n",
       "\n",
       "   Number_rooms  Fully_equipped_kitchen  Furnished  Open_fire  Terrace  \\\n",
       "0           2.0                       1          0          0        1   \n",
       "1           NaN                       0          0          0        0   \n",
       "2           1.0                       0          0          0        1   \n",
       "3           4.0                       0          0          0        1   \n",
       "4           3.0                       0          0          0        1   \n",
       "\n",
       "   Ter_Area  Garden  Area_garden  Livable_surface_area  Surface_area_land  \\\n",
       "0       1.0       0          NaN                  92.0                NaN   \n",
       "1       NaN       0          NaN                   NaN                NaN   \n",
       "2      15.0       0          NaN                  76.0                NaN   \n",
       "3      13.0       0          NaN                  90.0                NaN   \n",
       "4       2.0       0          NaN                 109.0                NaN   \n",
       "\n",
       "   Numb_facades  Swimming_pool           State  \n",
       "0           3.0              0       À rénover  \n",
       "1           NaN              0             NaN  \n",
       "2           2.0              0             Bon  \n",
       "3           4.0              0  Excellent état  \n",
       "4           NaN              0       À rénover  "
      ]
     },
     "execution_count": 8,
     "metadata": {},
     "output_type": "execute_result"
    }
   ],
   "source": [
    "data.head(5)"
   ]
  },
  {
   "cell_type": "code",
   "execution_count": 9,
   "metadata": {},
   "outputs": [
    {
     "data": {
      "text/plain": [
       "0        False\n",
       "1        False\n",
       "2        False\n",
       "3        False\n",
       "4        False\n",
       "         ...  \n",
       "10195    False\n",
       "10196    False\n",
       "10197    False\n",
       "10198    False\n",
       "10199    False\n",
       "Length: 10200, dtype: bool"
      ]
     },
     "execution_count": 9,
     "metadata": {},
     "output_type": "execute_result"
    }
   ],
   "source": [
    "data.duplicated(subset = None, keep = \"first\")"
   ]
  },
  {
   "cell_type": "code",
   "execution_count": 12,
   "metadata": {},
   "outputs": [],
   "source": [
    "data.drop_duplicates(subset=None, keep=\"first\",inplace=True)"
   ]
  },
  {
   "cell_type": "code",
   "execution_count": 13,
   "metadata": {},
   "outputs": [
    {
     "name": "stdout",
     "output_type": "stream",
     "text": [
      "<class 'pandas.core.frame.DataFrame'>\n",
      "Int64Index: 9950 entries, 0 to 10199\n",
      "Data columns (total 18 columns):\n",
      " #   Column                  Non-Null Count  Dtype  \n",
      "---  ------                  --------------  -----  \n",
      " 0   Locality                9950 non-null   object \n",
      " 1   Postal code             9950 non-null   int64  \n",
      " 2   Type                    9950 non-null   object \n",
      " 3   Build                   9950 non-null   int64  \n",
      " 4   Price                   9950 non-null   object \n",
      " 5   Number_rooms            8910 non-null   float64\n",
      " 6   Fully_equipped_kitchen  9950 non-null   int64  \n",
      " 7   Furnished               9950 non-null   int64  \n",
      " 8   Open_fire               9950 non-null   int64  \n",
      " 9   Terrace                 9950 non-null   int64  \n",
      " 10  Ter_Area                4384 non-null   float64\n",
      " 11  Garden                  9950 non-null   int64  \n",
      " 12  Area_garden             2070 non-null   float64\n",
      " 13  Livable_surface_area    8789 non-null   float64\n",
      " 14  Surface_area_land       4293 non-null   float64\n",
      " 15  Numb_facades            7013 non-null   float64\n",
      " 16  Swimming_pool           9950 non-null   int64  \n",
      " 17  State                   7925 non-null   object \n",
      "dtypes: float64(6), int64(8), object(4)\n",
      "memory usage: 1.4+ MB\n"
     ]
    }
   ],
   "source": [
    "data.info()"
   ]
  },
  {
   "cell_type": "markdown",
   "metadata": {},
   "source": [
    " # Exploring datas"
   ]
  },
  {
   "cell_type": "code",
   "execution_count": 14,
   "metadata": {},
   "outputs": [
    {
     "data": {
      "text/plain": [
       "Index(['Locality', 'Postal code', 'Type', 'Build', 'Price', 'Number_rooms',\n",
       "       'Fully_equipped_kitchen', 'Furnished', 'Open_fire', 'Terrace',\n",
       "       'Ter_Area', 'Garden', 'Area_garden', 'Livable_surface_area',\n",
       "       'Surface_area_land', 'Numb_facades', 'Swimming_pool', 'State'],\n",
       "      dtype='object')"
      ]
     },
     "execution_count": 14,
     "metadata": {},
     "output_type": "execute_result"
    }
   ],
   "source": [
    "data.columns"
   ]
  },
  {
   "cell_type": "code",
   "execution_count": 23,
   "metadata": {},
   "outputs": [
    {
     "data": {
      "text/plain": [
       "2.0     3507\n",
       "4.0     1888\n",
       "3.0     1563\n",
       "1.0       54\n",
       "10.0       1\n",
       "Name: Numb_facades, dtype: int64"
      ]
     },
     "execution_count": 23,
     "metadata": {},
     "output_type": "execute_result"
    }
   ],
   "source": [
    "data['Numb_facades'].value_counts()"
   ]
  },
  {
   "cell_type": "code",
   "execution_count": 20,
   "metadata": {},
   "outputs": [
    {
     "data": {
      "text/plain": [
       "Excellent état        3230\n",
       "Bon                   2803\n",
       "À rafraîchir           675\n",
       "À rénover              598\n",
       "Fraîchement rénové     585\n",
       "À restaurer             34\n",
       "Name: State, dtype: int64"
      ]
     },
     "execution_count": 20,
     "metadata": {},
     "output_type": "execute_result"
    }
   ],
   "source": [
    "data[\"State\"].value_counts()"
   ]
  },
  {
   "cell_type": "code",
   "execution_count": 19,
   "metadata": {},
   "outputs": [
    {
     "data": {
      "text/plain": [
       "0    5493\n",
       "1    4457\n",
       "Name: Fully_equipped_kitchen, dtype: int64"
      ]
     },
     "execution_count": 19,
     "metadata": {},
     "output_type": "execute_result"
    }
   ],
   "source": [
    "data['Fully_equipped_kitchen'].value_counts()"
   ]
  },
  {
   "cell_type": "code",
   "execution_count": 17,
   "metadata": {},
   "outputs": [
    {
     "data": {
      "text/plain": [
       "3.0     2805\n",
       "2.0     2720\n",
       "4.0     1394\n",
       "1.0      905\n",
       "5.0      599\n",
       "6.0      264\n",
       "7.0      102\n",
       "8.0       51\n",
       "9.0       24\n",
       "10.0      14\n",
       "11.0       8\n",
       "12.0       6\n",
       "14.0       3\n",
       "13.0       3\n",
       "20.0       3\n",
       "15.0       3\n",
       "41.0       2\n",
       "16.0       1\n",
       "30.0       1\n",
       "18.0       1\n",
       "23.0       1\n",
       "Name: Number_rooms, dtype: int64"
      ]
     },
     "execution_count": 17,
     "metadata": {},
     "output_type": "execute_result"
    }
   ],
   "source": [
    "data[\"Number_rooms\"].value_counts()"
   ]
  },
  {
   "cell_type": "code",
   "execution_count": 15,
   "metadata": {},
   "outputs": [
    {
     "data": {
      "text/plain": [
       "Appartement              3489\n",
       "Maison                   2980\n",
       "Villa                     680\n",
       "Duplex                    306\n",
       "Penthouse                 295\n",
       "                         ... \n",
       "The Edge                    1\n",
       "Central Park - Bloc E       1\n",
       "FIDELIS II                  1\n",
       "Portum                      1\n",
       "Huyse Vandewalle            1\n",
       "Name: Type, Length: 703, dtype: int64"
      ]
     },
     "execution_count": 15,
     "metadata": {},
     "output_type": "execute_result"
    }
   ],
   "source": [
    "data[\"Type\"].value_counts()"
   ]
  },
  {
   "cell_type": "code",
   "execution_count": 16,
   "metadata": {},
   "outputs": [
    {
     "data": {
      "text/plain": [
       "1    9207\n",
       "0     743\n",
       "Name: Build, dtype: int64"
      ]
     },
     "execution_count": 16,
     "metadata": {},
     "output_type": "execute_result"
    }
   ],
   "source": [
    "data[\"Build\"].value_counts()"
   ]
  },
  {
   "cell_type": "code",
   "execution_count": 55,
   "metadata": {},
   "outputs": [
    {
     "data": {
      "text/plain": [
       "gas         9190\n",
       "fueloil     2316\n",
       "electric     736\n",
       "pellet       117\n",
       "wood          26\n",
       "carbon        14\n",
       "solar          5\n",
       "Name: heatingType, dtype: int64"
      ]
     },
     "execution_count": 55,
     "metadata": {},
     "output_type": "execute_result"
    }
   ],
   "source": [
    "data[\"heatingType\"].value_counts()"
   ]
  },
  {
   "cell_type": "code",
   "execution_count": 24,
   "metadata": {},
   "outputs": [
    {
     "data": {
      "text/html": [
       "<div>\n",
       "<style scoped>\n",
       "    .dataframe tbody tr th:only-of-type {\n",
       "        vertical-align: middle;\n",
       "    }\n",
       "\n",
       "    .dataframe tbody tr th {\n",
       "        vertical-align: top;\n",
       "    }\n",
       "\n",
       "    .dataframe thead th {\n",
       "        text-align: right;\n",
       "    }\n",
       "</style>\n",
       "<table border=\"1\" class=\"dataframe\">\n",
       "  <thead>\n",
       "    <tr style=\"text-align: right;\">\n",
       "      <th></th>\n",
       "      <th>Postal code</th>\n",
       "      <th>Build</th>\n",
       "      <th>Number_rooms</th>\n",
       "      <th>Fully_equipped_kitchen</th>\n",
       "      <th>Furnished</th>\n",
       "      <th>Open_fire</th>\n",
       "      <th>Terrace</th>\n",
       "      <th>Ter_Area</th>\n",
       "      <th>Garden</th>\n",
       "      <th>Area_garden</th>\n",
       "      <th>Livable_surface_area</th>\n",
       "      <th>Surface_area_land</th>\n",
       "      <th>Numb_facades</th>\n",
       "      <th>Swimming_pool</th>\n",
       "    </tr>\n",
       "  </thead>\n",
       "  <tbody>\n",
       "    <tr>\n",
       "      <th>count</th>\n",
       "      <td>9950.000000</td>\n",
       "      <td>9950.000000</td>\n",
       "      <td>8910.000000</td>\n",
       "      <td>9950.000000</td>\n",
       "      <td>9950.000000</td>\n",
       "      <td>9950.000000</td>\n",
       "      <td>9950.000000</td>\n",
       "      <td>4384.000000</td>\n",
       "      <td>9950.000000</td>\n",
       "      <td>2070.000000</td>\n",
       "      <td>8789.000000</td>\n",
       "      <td>4293.000000</td>\n",
       "      <td>7013.000000</td>\n",
       "      <td>9950.000000</td>\n",
       "    </tr>\n",
       "    <tr>\n",
       "      <th>mean</th>\n",
       "      <td>4614.929146</td>\n",
       "      <td>0.925327</td>\n",
       "      <td>3.019978</td>\n",
       "      <td>0.447940</td>\n",
       "      <td>0.034472</td>\n",
       "      <td>0.062714</td>\n",
       "      <td>0.440603</td>\n",
       "      <td>29.478330</td>\n",
       "      <td>0.208040</td>\n",
       "      <td>1187.925604</td>\n",
       "      <td>175.721129</td>\n",
       "      <td>1288.775914</td>\n",
       "      <td>2.754741</td>\n",
       "      <td>0.031457</td>\n",
       "    </tr>\n",
       "    <tr>\n",
       "      <th>std</th>\n",
       "      <td>3122.281898</td>\n",
       "      <td>0.262877</td>\n",
       "      <td>1.652573</td>\n",
       "      <td>0.497307</td>\n",
       "      <td>0.182448</td>\n",
       "      <td>0.242459</td>\n",
       "      <td>0.496484</td>\n",
       "      <td>53.779673</td>\n",
       "      <td>0.405926</td>\n",
       "      <td>5169.306341</td>\n",
       "      <td>138.534325</td>\n",
       "      <td>4044.118894</td>\n",
       "      <td>0.864307</td>\n",
       "      <td>0.174559</td>\n",
       "    </tr>\n",
       "    <tr>\n",
       "      <th>min</th>\n",
       "      <td>1000.000000</td>\n",
       "      <td>0.000000</td>\n",
       "      <td>1.000000</td>\n",
       "      <td>0.000000</td>\n",
       "      <td>0.000000</td>\n",
       "      <td>0.000000</td>\n",
       "      <td>0.000000</td>\n",
       "      <td>1.000000</td>\n",
       "      <td>0.000000</td>\n",
       "      <td>1.000000</td>\n",
       "      <td>1.000000</td>\n",
       "      <td>1.000000</td>\n",
       "      <td>1.000000</td>\n",
       "      <td>0.000000</td>\n",
       "    </tr>\n",
       "    <tr>\n",
       "      <th>25%</th>\n",
       "      <td>1340.000000</td>\n",
       "      <td>1.000000</td>\n",
       "      <td>2.000000</td>\n",
       "      <td>0.000000</td>\n",
       "      <td>0.000000</td>\n",
       "      <td>0.000000</td>\n",
       "      <td>0.000000</td>\n",
       "      <td>9.000000</td>\n",
       "      <td>0.000000</td>\n",
       "      <td>90.000000</td>\n",
       "      <td>93.000000</td>\n",
       "      <td>210.000000</td>\n",
       "      <td>2.000000</td>\n",
       "      <td>0.000000</td>\n",
       "    </tr>\n",
       "    <tr>\n",
       "      <th>50%</th>\n",
       "      <td>4130.000000</td>\n",
       "      <td>1.000000</td>\n",
       "      <td>3.000000</td>\n",
       "      <td>0.000000</td>\n",
       "      <td>0.000000</td>\n",
       "      <td>0.000000</td>\n",
       "      <td>0.000000</td>\n",
       "      <td>18.000000</td>\n",
       "      <td>0.000000</td>\n",
       "      <td>252.000000</td>\n",
       "      <td>136.000000</td>\n",
       "      <td>475.000000</td>\n",
       "      <td>2.000000</td>\n",
       "      <td>0.000000</td>\n",
       "    </tr>\n",
       "    <tr>\n",
       "      <th>75%</th>\n",
       "      <td>8300.000000</td>\n",
       "      <td>1.000000</td>\n",
       "      <td>4.000000</td>\n",
       "      <td>1.000000</td>\n",
       "      <td>0.000000</td>\n",
       "      <td>0.000000</td>\n",
       "      <td>1.000000</td>\n",
       "      <td>35.000000</td>\n",
       "      <td>0.000000</td>\n",
       "      <td>800.000000</td>\n",
       "      <td>212.000000</td>\n",
       "      <td>1060.000000</td>\n",
       "      <td>4.000000</td>\n",
       "      <td>0.000000</td>\n",
       "    </tr>\n",
       "    <tr>\n",
       "      <th>max</th>\n",
       "      <td>9991.000000</td>\n",
       "      <td>1.000000</td>\n",
       "      <td>41.000000</td>\n",
       "      <td>1.000000</td>\n",
       "      <td>1.000000</td>\n",
       "      <td>1.000000</td>\n",
       "      <td>1.000000</td>\n",
       "      <td>2000.000000</td>\n",
       "      <td>1.000000</td>\n",
       "      <td>80000.000000</td>\n",
       "      <td>2300.000000</td>\n",
       "      <td>117800.000000</td>\n",
       "      <td>10.000000</td>\n",
       "      <td>1.000000</td>\n",
       "    </tr>\n",
       "  </tbody>\n",
       "</table>\n",
       "</div>"
      ],
      "text/plain": [
       "       Postal code        Build  Number_rooms  Fully_equipped_kitchen  \\\n",
       "count  9950.000000  9950.000000   8910.000000             9950.000000   \n",
       "mean   4614.929146     0.925327      3.019978                0.447940   \n",
       "std    3122.281898     0.262877      1.652573                0.497307   \n",
       "min    1000.000000     0.000000      1.000000                0.000000   \n",
       "25%    1340.000000     1.000000      2.000000                0.000000   \n",
       "50%    4130.000000     1.000000      3.000000                0.000000   \n",
       "75%    8300.000000     1.000000      4.000000                1.000000   \n",
       "max    9991.000000     1.000000     41.000000                1.000000   \n",
       "\n",
       "         Furnished    Open_fire      Terrace     Ter_Area       Garden  \\\n",
       "count  9950.000000  9950.000000  9950.000000  4384.000000  9950.000000   \n",
       "mean      0.034472     0.062714     0.440603    29.478330     0.208040   \n",
       "std       0.182448     0.242459     0.496484    53.779673     0.405926   \n",
       "min       0.000000     0.000000     0.000000     1.000000     0.000000   \n",
       "25%       0.000000     0.000000     0.000000     9.000000     0.000000   \n",
       "50%       0.000000     0.000000     0.000000    18.000000     0.000000   \n",
       "75%       0.000000     0.000000     1.000000    35.000000     0.000000   \n",
       "max       1.000000     1.000000     1.000000  2000.000000     1.000000   \n",
       "\n",
       "        Area_garden  Livable_surface_area  Surface_area_land  Numb_facades  \\\n",
       "count   2070.000000           8789.000000        4293.000000   7013.000000   \n",
       "mean    1187.925604            175.721129        1288.775914      2.754741   \n",
       "std     5169.306341            138.534325        4044.118894      0.864307   \n",
       "min        1.000000              1.000000           1.000000      1.000000   \n",
       "25%       90.000000             93.000000         210.000000      2.000000   \n",
       "50%      252.000000            136.000000         475.000000      2.000000   \n",
       "75%      800.000000            212.000000        1060.000000      4.000000   \n",
       "max    80000.000000           2300.000000      117800.000000     10.000000   \n",
       "\n",
       "       Swimming_pool  \n",
       "count    9950.000000  \n",
       "mean        0.031457  \n",
       "std         0.174559  \n",
       "min         0.000000  \n",
       "25%         0.000000  \n",
       "50%         0.000000  \n",
       "75%         0.000000  \n",
       "max         1.000000  "
      ]
     },
     "execution_count": 24,
     "metadata": {},
     "output_type": "execute_result"
    }
   ],
   "source": [
    "data.describe()"
   ]
  },
  {
   "cell_type": "markdown",
   "metadata": {},
   "source": [
    " # Premières modifs"
   ]
  },
  {
   "cell_type": "code",
   "execution_count": null,
   "metadata": {},
   "outputs": [],
   "source": []
  }
 ],
 "metadata": {
  "kernelspec": {
   "display_name": "becode",
   "language": "python",
   "name": "becode"
  },
  "language_info": {
   "codemirror_mode": {
    "name": "ipython",
    "version": 3
   },
   "file_extension": ".py",
   "mimetype": "text/x-python",
   "name": "python",
   "nbconvert_exporter": "python",
   "pygments_lexer": "ipython3",
   "version": "3.6.7"
  }
 },
 "nbformat": 4,
 "nbformat_minor": 4
}
