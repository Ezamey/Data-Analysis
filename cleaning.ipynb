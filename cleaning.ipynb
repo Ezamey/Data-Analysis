{
 "cells": [
  {
   "cell_type": "code",
   "execution_count": 152,
   "metadata": {},
   "outputs": [],
   "source": [
    "#imports\n",
    "import pandas as pd"
   ]
  },
  {
   "cell_type": "code",
   "execution_count": 153,
   "metadata": {},
   "outputs": [],
   "source": [
    "pd.options.display.max_columns = None"
   ]
  },
  {
   "cell_type": "code",
   "execution_count": 154,
   "metadata": {},
   "outputs": [],
   "source": [
    "%config IPCompleter.greedy=True"
   ]
  },
  {
   "cell_type": "code",
   "execution_count": 155,
   "metadata": {},
   "outputs": [],
   "source": [
    "#data.duplicated(subset = None, keep = \"first\")"
   ]
  },
  {
   "cell_type": "code",
   "execution_count": 156,
   "metadata": {},
   "outputs": [],
   "source": [
    "d= \"DatasetsImmo/stocks.csv\""
   ]
  },
  {
   "cell_type": "code",
   "execution_count": 157,
   "metadata": {},
   "outputs": [],
   "source": [
    "data = pd.read_csv(d)"
   ]
  },
  {
   "cell_type": "markdown",
   "metadata": {},
   "source": [
    "# Identification of variables and data types"
   ]
  },
  {
   "cell_type": "code",
   "execution_count": 158,
   "metadata": {},
   "outputs": [
    {
     "name": "stdout",
     "output_type": "stream",
     "text": [
      "<class 'pandas.core.frame.DataFrame'>\n",
      "RangeIndex: 19855 entries, 0 to 19854\n",
      "Data columns (total 23 columns):\n",
      " #   Column                         Non-Null Count  Dtype  \n",
      "---  ------                         --------------  -----  \n",
      " 0   id                             19855 non-null  int64  \n",
      " 1   type                           19855 non-null  object \n",
      " 2   subtype                        19855 non-null  object \n",
      " 3   price                          19855 non-null  object \n",
      " 4   transactionType                19855 non-null  object \n",
      " 5   zip                            19855 non-null  int64  \n",
      " 6   visualisationOption            19855 non-null  object \n",
      " 7   cuisine_type                   12904 non-null  object \n",
      " 8   constructionYear               11227 non-null  float64\n",
      " 9   condition                      13434 non-null  object \n",
      " 10  heatingType                    12404 non-null  object \n",
      " 11  primaryEnergyConsumptionLevel  0 non-null      float64\n",
      " 12  room_number                    18184 non-null  float64\n",
      " 13  surface                        3350 non-null   float64\n",
      " 14  atticExists                    2625 non-null   object \n",
      " 15  basementExists                 7597 non-null   object \n",
      " 16  hasSwimmingPool                528 non-null    object \n",
      " 17  indoor                         7041 non-null   float64\n",
      " 18  outdoor                        5518 non-null   float64\n",
      " 19  short_id                       19855 non-null  int64  \n",
      " 20  company_name                   18738 non-null  object \n",
      " 21  m2                             19855 non-null  int64  \n",
      " 22  commune                        19855 non-null  object \n",
      "dtypes: float64(6), int64(4), object(13)\n",
      "memory usage: 3.5+ MB\n"
     ]
    }
   ],
   "source": [
    "data.info()"
   ]
  },
  {
   "cell_type": "markdown",
   "metadata": {},
   "source": [
    "# Finding % null values"
   ]
  },
  {
   "cell_type": "code",
   "execution_count": 159,
   "metadata": {},
   "outputs": [
    {
     "data": {
      "text/plain": [
       "id                                 0.000000\n",
       "type                               0.000000\n",
       "subtype                            0.000000\n",
       "price                              0.000000\n",
       "transactionType                    0.000000\n",
       "zip                                0.000000\n",
       "visualisationOption                0.000000\n",
       "cuisine_type                      35.008814\n",
       "constructionYear                  43.455049\n",
       "condition                         32.339461\n",
       "heatingType                       37.527071\n",
       "primaryEnergyConsumptionLevel    100.000000\n",
       "room_number                        8.416016\n",
       "surface                           83.127676\n",
       "atticExists                       86.779149\n",
       "basementExists                    61.737598\n",
       "hasSwimmingPool                   97.340720\n",
       "indoor                            64.537900\n",
       "outdoor                           72.208512\n",
       "short_id                           0.000000\n",
       "company_name                       5.625787\n",
       "m2                                 0.000000\n",
       "commune                            0.000000\n",
       "dtype: float64"
      ]
     },
     "execution_count": 159,
     "metadata": {},
     "output_type": "execute_result"
    }
   ],
   "source": [
    "data.apply(lambda x: (sum(x.isnull())/len(data))*100,axis=0)"
   ]
  },
  {
   "cell_type": "markdown",
   "metadata": {},
   "source": [
    "# Dealing with duplicates"
   ]
  },
  {
   "cell_type": "code",
   "execution_count": 160,
   "metadata": {},
   "outputs": [
    {
     "name": "stdout",
     "output_type": "stream",
     "text": [
      "(19855, 23)\n",
      "(19855, 23)\n"
     ]
    }
   ],
   "source": [
    "print(data.shape)\n",
    "data.drop_duplicates(subset=None, keep=\"first\",inplace=True)\n",
    "print(data.shape)"
   ]
  },
  {
   "cell_type": "markdown",
   "metadata": {},
   "source": [
    "Duplicates check!"
   ]
  },
  {
   "cell_type": "code",
   "execution_count": 161,
   "metadata": {
    "scrolled": true
   },
   "outputs": [
    {
     "data": {
      "text/html": [
       "<div>\n",
       "<style scoped>\n",
       "    .dataframe tbody tr th:only-of-type {\n",
       "        vertical-align: middle;\n",
       "    }\n",
       "\n",
       "    .dataframe tbody tr th {\n",
       "        vertical-align: top;\n",
       "    }\n",
       "\n",
       "    .dataframe thead th {\n",
       "        text-align: right;\n",
       "    }\n",
       "</style>\n",
       "<table border=\"1\" class=\"dataframe\">\n",
       "  <thead>\n",
       "    <tr style=\"text-align: right;\">\n",
       "      <th></th>\n",
       "      <th>id</th>\n",
       "      <th>type</th>\n",
       "      <th>subtype</th>\n",
       "      <th>price</th>\n",
       "      <th>transactionType</th>\n",
       "      <th>zip</th>\n",
       "      <th>visualisationOption</th>\n",
       "      <th>cuisine_type</th>\n",
       "      <th>constructionYear</th>\n",
       "      <th>condition</th>\n",
       "      <th>heatingType</th>\n",
       "      <th>primaryEnergyConsumptionLevel</th>\n",
       "      <th>room_number</th>\n",
       "      <th>surface</th>\n",
       "      <th>atticExists</th>\n",
       "      <th>basementExists</th>\n",
       "      <th>hasSwimmingPool</th>\n",
       "      <th>indoor</th>\n",
       "      <th>outdoor</th>\n",
       "      <th>short_id</th>\n",
       "      <th>company_name</th>\n",
       "      <th>m2</th>\n",
       "      <th>commune</th>\n",
       "    </tr>\n",
       "  </thead>\n",
       "  <tbody>\n",
       "    <tr>\n",
       "      <th>0</th>\n",
       "      <td>9042129</td>\n",
       "      <td>apartment group</td>\n",
       "      <td>apartment group</td>\n",
       "      <td>336000 - 610000</td>\n",
       "      <td>for sale</td>\n",
       "      <td>1000</td>\n",
       "      <td>xl</td>\n",
       "      <td>NaN</td>\n",
       "      <td>NaN</td>\n",
       "      <td>NaN</td>\n",
       "      <td>NaN</td>\n",
       "      <td>NaN</td>\n",
       "      <td>NaN</td>\n",
       "      <td>NaN</td>\n",
       "      <td>NaN</td>\n",
       "      <td>NaN</td>\n",
       "      <td>NaN</td>\n",
       "      <td>1.0</td>\n",
       "      <td>1.0</td>\n",
       "      <td>2575488</td>\n",
       "      <td>we invest real estate</td>\n",
       "      <td>94</td>\n",
       "      <td>Bruxelles</td>\n",
       "    </tr>\n",
       "    <tr>\n",
       "      <th>1</th>\n",
       "      <td>9041098</td>\n",
       "      <td>apartment group</td>\n",
       "      <td>apartment group</td>\n",
       "      <td>165000 - 420000</td>\n",
       "      <td>for sale</td>\n",
       "      <td>6001</td>\n",
       "      <td>xl</td>\n",
       "      <td>NaN</td>\n",
       "      <td>NaN</td>\n",
       "      <td>NaN</td>\n",
       "      <td>NaN</td>\n",
       "      <td>NaN</td>\n",
       "      <td>NaN</td>\n",
       "      <td>NaN</td>\n",
       "      <td>NaN</td>\n",
       "      <td>NaN</td>\n",
       "      <td>NaN</td>\n",
       "      <td>NaN</td>\n",
       "      <td>NaN</td>\n",
       "      <td>1400721</td>\n",
       "      <td>concept confort sprl</td>\n",
       "      <td>64</td>\n",
       "      <td>Marcinelle</td>\n",
       "    </tr>\n",
       "    <tr>\n",
       "      <th>2</th>\n",
       "      <td>9039019</td>\n",
       "      <td>apartment</td>\n",
       "      <td>apartment</td>\n",
       "      <td>1550000</td>\n",
       "      <td>for sale</td>\n",
       "      <td>1050</td>\n",
       "      <td>xl</td>\n",
       "      <td>usa hyper equipped</td>\n",
       "      <td>2017.0</td>\n",
       "      <td>as new</td>\n",
       "      <td>gas</td>\n",
       "      <td>NaN</td>\n",
       "      <td>3.0</td>\n",
       "      <td>NaN</td>\n",
       "      <td>NaN</td>\n",
       "      <td>NaN</td>\n",
       "      <td>NaN</td>\n",
       "      <td>NaN</td>\n",
       "      <td>1.0</td>\n",
       "      <td>2595964</td>\n",
       "      <td>lecobel vaneau vente neuf</td>\n",
       "      <td>213</td>\n",
       "      <td>Ixelles</td>\n",
       "    </tr>\n",
       "    <tr>\n",
       "      <th>3</th>\n",
       "      <td>9043036</td>\n",
       "      <td>apartment</td>\n",
       "      <td>apartment</td>\n",
       "      <td>195000</td>\n",
       "      <td>for sale</td>\n",
       "      <td>9600</td>\n",
       "      <td>xl</td>\n",
       "      <td>installed</td>\n",
       "      <td>2014.0</td>\n",
       "      <td>good</td>\n",
       "      <td>gas</td>\n",
       "      <td>NaN</td>\n",
       "      <td>2.0</td>\n",
       "      <td>NaN</td>\n",
       "      <td>NaN</td>\n",
       "      <td>NaN</td>\n",
       "      <td>NaN</td>\n",
       "      <td>NaN</td>\n",
       "      <td>NaN</td>\n",
       "      <td>1002634</td>\n",
       "      <td>immo beguin</td>\n",
       "      <td>75</td>\n",
       "      <td>Renaix</td>\n",
       "    </tr>\n",
       "    <tr>\n",
       "      <th>4</th>\n",
       "      <td>9042073</td>\n",
       "      <td>apartment</td>\n",
       "      <td>apartment</td>\n",
       "      <td>320000</td>\n",
       "      <td>for sale</td>\n",
       "      <td>1070</td>\n",
       "      <td>xl</td>\n",
       "      <td>usa hyper equipped</td>\n",
       "      <td>2017.0</td>\n",
       "      <td>as new</td>\n",
       "      <td>gas</td>\n",
       "      <td>NaN</td>\n",
       "      <td>3.0</td>\n",
       "      <td>NaN</td>\n",
       "      <td>NaN</td>\n",
       "      <td>True</td>\n",
       "      <td>NaN</td>\n",
       "      <td>1.0</td>\n",
       "      <td>1.0</td>\n",
       "      <td>2916018</td>\n",
       "      <td>sky realty</td>\n",
       "      <td>130</td>\n",
       "      <td>Anderlecht</td>\n",
       "    </tr>\n",
       "  </tbody>\n",
       "</table>\n",
       "</div>"
      ],
      "text/plain": [
       "        id             type          subtype            price transactionType  \\\n",
       "0  9042129  apartment group  apartment group  336000 - 610000        for sale   \n",
       "1  9041098  apartment group  apartment group  165000 - 420000        for sale   \n",
       "2  9039019        apartment        apartment          1550000        for sale   \n",
       "3  9043036        apartment        apartment           195000        for sale   \n",
       "4  9042073        apartment        apartment           320000        for sale   \n",
       "\n",
       "    zip visualisationOption        cuisine_type  constructionYear condition  \\\n",
       "0  1000                  xl                 NaN               NaN       NaN   \n",
       "1  6001                  xl                 NaN               NaN       NaN   \n",
       "2  1050                  xl  usa hyper equipped            2017.0    as new   \n",
       "3  9600                  xl           installed            2014.0      good   \n",
       "4  1070                  xl  usa hyper equipped            2017.0    as new   \n",
       "\n",
       "  heatingType  primaryEnergyConsumptionLevel  room_number  surface  \\\n",
       "0         NaN                            NaN          NaN      NaN   \n",
       "1         NaN                            NaN          NaN      NaN   \n",
       "2         gas                            NaN          3.0      NaN   \n",
       "3         gas                            NaN          2.0      NaN   \n",
       "4         gas                            NaN          3.0      NaN   \n",
       "\n",
       "  atticExists basementExists hasSwimmingPool  indoor  outdoor  short_id  \\\n",
       "0         NaN            NaN             NaN     1.0      1.0   2575488   \n",
       "1         NaN            NaN             NaN     NaN      NaN   1400721   \n",
       "2         NaN            NaN             NaN     NaN      1.0   2595964   \n",
       "3         NaN            NaN             NaN     NaN      NaN   1002634   \n",
       "4         NaN           True             NaN     1.0      1.0   2916018   \n",
       "\n",
       "                company_name   m2     commune  \n",
       "0      we invest real estate   94   Bruxelles  \n",
       "1       concept confort sprl   64  Marcinelle  \n",
       "2  lecobel vaneau vente neuf  213     Ixelles  \n",
       "3                immo beguin   75      Renaix  \n",
       "4                 sky realty  130  Anderlecht  "
      ]
     },
     "execution_count": 161,
     "metadata": {},
     "output_type": "execute_result"
    }
   ],
   "source": [
    "data.head(5)"
   ]
  },
  {
   "cell_type": "markdown",
   "metadata": {},
   "source": [
    " # Exploring datas"
   ]
  },
  {
   "cell_type": "code",
   "execution_count": 162,
   "metadata": {},
   "outputs": [
    {
     "data": {
      "text/plain": [
       "array([nan, 'usa hyper equipped', 'installed', 'hyper equipped',\n",
       "       'usa installed', 'not installed', 'semi equipped',\n",
       "       'usa semi equipped', 'usa uninstalled'], dtype=object)"
      ]
     },
     "execution_count": 162,
     "metadata": {},
     "output_type": "execute_result"
    }
   ],
   "source": [
    "data[\"cuisine_type\"].unique()"
   ]
  },
  {
   "cell_type": "code",
   "execution_count": 163,
   "metadata": {},
   "outputs": [
    {
     "data": {
      "text/plain": [
       "installed             6380\n",
       "hyper equipped        2879\n",
       "semi equipped         1333\n",
       "usa hyper equipped    1155\n",
       "not installed          706\n",
       "usa installed          346\n",
       "usa semi equipped       92\n",
       "usa uninstalled         13\n",
       "Name: cuisine_type, dtype: int64"
      ]
     },
     "execution_count": 163,
     "metadata": {},
     "output_type": "execute_result"
    }
   ],
   "source": [
    "data[\"cuisine_type\"].value_counts()"
   ]
  },
  {
   "cell_type": "code",
   "execution_count": 164,
   "metadata": {},
   "outputs": [
    {
     "data": {
      "text/plain": [
       "2020.0    1574\n",
       "2019.0     776\n",
       "2018.0     366\n",
       "2021.0     342\n",
       "1930.0     235\n",
       "          ... \n",
       "1802.0       1\n",
       "1872.0       1\n",
       "1789.0       1\n",
       "1786.0       1\n",
       "1855.0       1\n",
       "Name: constructionYear, Length: 185, dtype: int64"
      ]
     },
     "execution_count": 164,
     "metadata": {},
     "output_type": "execute_result"
    }
   ],
   "source": [
    "data[\"constructionYear\"].value_counts()"
   ]
  },
  {
   "cell_type": "code",
   "execution_count": 165,
   "metadata": {},
   "outputs": [
    {
     "data": {
      "text/plain": [
       "as new            5820\n",
       "good              4428\n",
       "to be done up     1110\n",
       "to renovate       1105\n",
       "just renovated     890\n",
       "to restore          81\n",
       "Name: condition, dtype: int64"
      ]
     },
     "execution_count": 165,
     "metadata": {},
     "output_type": "execute_result"
    }
   ],
   "source": [
    "data[\"condition\"].value_counts()"
   ]
  },
  {
   "cell_type": "code",
   "execution_count": 166,
   "metadata": {},
   "outputs": [
    {
     "data": {
      "text/plain": [
       "gas         9190\n",
       "fueloil     2316\n",
       "electric     736\n",
       "pellet       117\n",
       "wood          26\n",
       "carbon        14\n",
       "solar          5\n",
       "Name: heatingType, dtype: int64"
      ]
     },
     "execution_count": 166,
     "metadata": {},
     "output_type": "execute_result"
    }
   ],
   "source": [
    "data[\"heatingType\"].value_counts()"
   ]
  },
  {
   "cell_type": "code",
   "execution_count": 167,
   "metadata": {},
   "outputs": [
    {
     "data": {
      "text/plain": [
       "True    2625\n",
       "Name: atticExists, dtype: int64"
      ]
     },
     "execution_count": 167,
     "metadata": {},
     "output_type": "execute_result"
    }
   ],
   "source": [
    "data[\"atticExists\"].value_counts()#assume rest is false"
   ]
  },
  {
   "cell_type": "code",
   "execution_count": 168,
   "metadata": {},
   "outputs": [
    {
     "data": {
      "text/plain": [
       "True    7597\n",
       "Name: basementExists, dtype: int64"
      ]
     },
     "execution_count": 168,
     "metadata": {},
     "output_type": "execute_result"
    }
   ],
   "source": [
    "data[\"basementExists\"].value_counts()#assume rest is false"
   ]
  },
  {
   "cell_type": "code",
   "execution_count": 169,
   "metadata": {},
   "outputs": [
    {
     "data": {
      "text/plain": [
       "True    528\n",
       "Name: hasSwimmingPool, dtype: int64"
      ]
     },
     "execution_count": 169,
     "metadata": {},
     "output_type": "execute_result"
    }
   ],
   "source": [
    "data[\"hasSwimmingPool\"].value_counts()#assume rest is false"
   ]
  },
  {
   "cell_type": "code",
   "execution_count": 170,
   "metadata": {},
   "outputs": [],
   "source": [
    "#data[\"indoor\"].value_counts() ??"
   ]
  },
  {
   "cell_type": "code",
   "execution_count": 171,
   "metadata": {},
   "outputs": [],
   "source": [
    "#data[\"outdoor\"].value_counts() ??"
   ]
  },
  {
   "cell_type": "code",
   "execution_count": 172,
   "metadata": {
    "scrolled": true
   },
   "outputs": [
    {
     "data": {
      "text/html": [
       "<div>\n",
       "<style scoped>\n",
       "    .dataframe tbody tr th:only-of-type {\n",
       "        vertical-align: middle;\n",
       "    }\n",
       "\n",
       "    .dataframe tbody tr th {\n",
       "        vertical-align: top;\n",
       "    }\n",
       "\n",
       "    .dataframe thead th {\n",
       "        text-align: right;\n",
       "    }\n",
       "</style>\n",
       "<table border=\"1\" class=\"dataframe\">\n",
       "  <thead>\n",
       "    <tr style=\"text-align: right;\">\n",
       "      <th></th>\n",
       "      <th>id</th>\n",
       "      <th>zip</th>\n",
       "      <th>constructionYear</th>\n",
       "      <th>primaryEnergyConsumptionLevel</th>\n",
       "      <th>room_number</th>\n",
       "      <th>surface</th>\n",
       "      <th>indoor</th>\n",
       "      <th>outdoor</th>\n",
       "      <th>short_id</th>\n",
       "      <th>m2</th>\n",
       "    </tr>\n",
       "  </thead>\n",
       "  <tbody>\n",
       "    <tr>\n",
       "      <th>count</th>\n",
       "      <td>1.985500e+04</td>\n",
       "      <td>19855.000000</td>\n",
       "      <td>11227.000000</td>\n",
       "      <td>0.0</td>\n",
       "      <td>18184.000000</td>\n",
       "      <td>3350.000000</td>\n",
       "      <td>7041.000000</td>\n",
       "      <td>5518.000000</td>\n",
       "      <td>1.985500e+04</td>\n",
       "      <td>19855.000000</td>\n",
       "    </tr>\n",
       "    <tr>\n",
       "      <th>mean</th>\n",
       "      <td>8.813947e+06</td>\n",
       "      <td>5351.076958</td>\n",
       "      <td>1983.291351</td>\n",
       "      <td>NaN</td>\n",
       "      <td>2.993731</td>\n",
       "      <td>1115.731940</td>\n",
       "      <td>7.673626</td>\n",
       "      <td>4.169264</td>\n",
       "      <td>1.723057e+06</td>\n",
       "      <td>152.286678</td>\n",
       "    </tr>\n",
       "    <tr>\n",
       "      <th>std</th>\n",
       "      <td>3.474169e+05</td>\n",
       "      <td>3203.867180</td>\n",
       "      <td>39.423541</td>\n",
       "      <td>NaN</td>\n",
       "      <td>3.426793</td>\n",
       "      <td>4881.913707</td>\n",
       "      <td>417.228670</td>\n",
       "      <td>10.313800</td>\n",
       "      <td>1.207467e+06</td>\n",
       "      <td>168.879982</td>\n",
       "    </tr>\n",
       "    <tr>\n",
       "      <th>min</th>\n",
       "      <td>3.702839e+06</td>\n",
       "      <td>1000.000000</td>\n",
       "      <td>1755.000000</td>\n",
       "      <td>NaN</td>\n",
       "      <td>0.000000</td>\n",
       "      <td>1.000000</td>\n",
       "      <td>1.000000</td>\n",
       "      <td>1.000000</td>\n",
       "      <td>1.410000e+03</td>\n",
       "      <td>1.000000</td>\n",
       "    </tr>\n",
       "    <tr>\n",
       "      <th>25%</th>\n",
       "      <td>8.783413e+06</td>\n",
       "      <td>1970.000000</td>\n",
       "      <td>1962.000000</td>\n",
       "      <td>NaN</td>\n",
       "      <td>2.000000</td>\n",
       "      <td>76.000000</td>\n",
       "      <td>1.000000</td>\n",
       "      <td>1.000000</td>\n",
       "      <td>5.011240e+05</td>\n",
       "      <td>79.000000</td>\n",
       "    </tr>\n",
       "    <tr>\n",
       "      <th>50%</th>\n",
       "      <td>8.933765e+06</td>\n",
       "      <td>5330.000000</td>\n",
       "      <td>1993.000000</td>\n",
       "      <td>NaN</td>\n",
       "      <td>3.000000</td>\n",
       "      <td>210.000000</td>\n",
       "      <td>1.000000</td>\n",
       "      <td>2.000000</td>\n",
       "      <td>1.838339e+06</td>\n",
       "      <td>118.000000</td>\n",
       "    </tr>\n",
       "    <tr>\n",
       "      <th>75%</th>\n",
       "      <td>9.000254e+06</td>\n",
       "      <td>8470.000000</td>\n",
       "      <td>2018.000000</td>\n",
       "      <td>NaN</td>\n",
       "      <td>4.000000</td>\n",
       "      <td>700.000000</td>\n",
       "      <td>2.000000</td>\n",
       "      <td>4.000000</td>\n",
       "      <td>2.735512e+06</td>\n",
       "      <td>188.000000</td>\n",
       "    </tr>\n",
       "    <tr>\n",
       "      <th>max</th>\n",
       "      <td>9.043940e+06</td>\n",
       "      <td>9992.000000</td>\n",
       "      <td>2023.000000</td>\n",
       "      <td>NaN</td>\n",
       "      <td>204.000000</td>\n",
       "      <td>80978.000000</td>\n",
       "      <td>35000.000000</td>\n",
       "      <td>250.000000</td>\n",
       "      <td>3.675574e+06</td>\n",
       "      <td>8800.000000</td>\n",
       "    </tr>\n",
       "  </tbody>\n",
       "</table>\n",
       "</div>"
      ],
      "text/plain": [
       "                 id           zip  constructionYear  \\\n",
       "count  1.985500e+04  19855.000000      11227.000000   \n",
       "mean   8.813947e+06   5351.076958       1983.291351   \n",
       "std    3.474169e+05   3203.867180         39.423541   \n",
       "min    3.702839e+06   1000.000000       1755.000000   \n",
       "25%    8.783413e+06   1970.000000       1962.000000   \n",
       "50%    8.933765e+06   5330.000000       1993.000000   \n",
       "75%    9.000254e+06   8470.000000       2018.000000   \n",
       "max    9.043940e+06   9992.000000       2023.000000   \n",
       "\n",
       "       primaryEnergyConsumptionLevel   room_number       surface  \\\n",
       "count                            0.0  18184.000000   3350.000000   \n",
       "mean                             NaN      2.993731   1115.731940   \n",
       "std                              NaN      3.426793   4881.913707   \n",
       "min                              NaN      0.000000      1.000000   \n",
       "25%                              NaN      2.000000     76.000000   \n",
       "50%                              NaN      3.000000    210.000000   \n",
       "75%                              NaN      4.000000    700.000000   \n",
       "max                              NaN    204.000000  80978.000000   \n",
       "\n",
       "             indoor      outdoor      short_id            m2  \n",
       "count   7041.000000  5518.000000  1.985500e+04  19855.000000  \n",
       "mean       7.673626     4.169264  1.723057e+06    152.286678  \n",
       "std      417.228670    10.313800  1.207467e+06    168.879982  \n",
       "min        1.000000     1.000000  1.410000e+03      1.000000  \n",
       "25%        1.000000     1.000000  5.011240e+05     79.000000  \n",
       "50%        1.000000     2.000000  1.838339e+06    118.000000  \n",
       "75%        2.000000     4.000000  2.735512e+06    188.000000  \n",
       "max    35000.000000   250.000000  3.675574e+06   8800.000000  "
      ]
     },
     "execution_count": 172,
     "metadata": {},
     "output_type": "execute_result"
    }
   ],
   "source": [
    "data.describe()"
   ]
  },
  {
   "cell_type": "markdown",
   "metadata": {},
   "source": [
    " # Premières modifs"
   ]
  },
  {
   "cell_type": "markdown",
   "metadata": {},
   "source": [
    "Removing subset of apartment group because their price is an interval instead of a definitive value"
   ]
  },
  {
   "cell_type": "code",
   "execution_count": 173,
   "metadata": {},
   "outputs": [
    {
     "data": {
      "text/html": [
       "<div>\n",
       "<style scoped>\n",
       "    .dataframe tbody tr th:only-of-type {\n",
       "        vertical-align: middle;\n",
       "    }\n",
       "\n",
       "    .dataframe tbody tr th {\n",
       "        vertical-align: top;\n",
       "    }\n",
       "\n",
       "    .dataframe thead th {\n",
       "        text-align: right;\n",
       "    }\n",
       "</style>\n",
       "<table border=\"1\" class=\"dataframe\">\n",
       "  <thead>\n",
       "    <tr style=\"text-align: right;\">\n",
       "      <th></th>\n",
       "      <th>id</th>\n",
       "      <th>type</th>\n",
       "      <th>subtype</th>\n",
       "      <th>price</th>\n",
       "      <th>transactionType</th>\n",
       "      <th>zip</th>\n",
       "      <th>visualisationOption</th>\n",
       "      <th>cuisine_type</th>\n",
       "      <th>constructionYear</th>\n",
       "      <th>condition</th>\n",
       "      <th>heatingType</th>\n",
       "      <th>primaryEnergyConsumptionLevel</th>\n",
       "      <th>room_number</th>\n",
       "      <th>surface</th>\n",
       "      <th>atticExists</th>\n",
       "      <th>basementExists</th>\n",
       "      <th>hasSwimmingPool</th>\n",
       "      <th>indoor</th>\n",
       "      <th>outdoor</th>\n",
       "      <th>short_id</th>\n",
       "      <th>company_name</th>\n",
       "      <th>m2</th>\n",
       "      <th>commune</th>\n",
       "    </tr>\n",
       "  </thead>\n",
       "  <tbody>\n",
       "    <tr>\n",
       "      <th>0</th>\n",
       "      <td>9042129</td>\n",
       "      <td>apartment group</td>\n",
       "      <td>apartment group</td>\n",
       "      <td>336000 - 610000</td>\n",
       "      <td>for sale</td>\n",
       "      <td>1000</td>\n",
       "      <td>xl</td>\n",
       "      <td>NaN</td>\n",
       "      <td>NaN</td>\n",
       "      <td>NaN</td>\n",
       "      <td>NaN</td>\n",
       "      <td>NaN</td>\n",
       "      <td>NaN</td>\n",
       "      <td>NaN</td>\n",
       "      <td>NaN</td>\n",
       "      <td>NaN</td>\n",
       "      <td>NaN</td>\n",
       "      <td>1.0</td>\n",
       "      <td>1.0</td>\n",
       "      <td>2575488</td>\n",
       "      <td>we invest real estate</td>\n",
       "      <td>94</td>\n",
       "      <td>Bruxelles</td>\n",
       "    </tr>\n",
       "  </tbody>\n",
       "</table>\n",
       "</div>"
      ],
      "text/plain": [
       "        id             type          subtype            price transactionType  \\\n",
       "0  9042129  apartment group  apartment group  336000 - 610000        for sale   \n",
       "\n",
       "    zip visualisationOption cuisine_type  constructionYear condition  \\\n",
       "0  1000                  xl          NaN               NaN       NaN   \n",
       "\n",
       "  heatingType  primaryEnergyConsumptionLevel  room_number  surface  \\\n",
       "0         NaN                            NaN          NaN      NaN   \n",
       "\n",
       "  atticExists basementExists hasSwimmingPool  indoor  outdoor  short_id  \\\n",
       "0         NaN            NaN             NaN     1.0      1.0   2575488   \n",
       "\n",
       "            company_name  m2    commune  \n",
       "0  we invest real estate  94  Bruxelles  "
      ]
     },
     "execution_count": 173,
     "metadata": {},
     "output_type": "execute_result"
    }
   ],
   "source": [
    "data.head(1)"
   ]
  },
  {
   "cell_type": "code",
   "execution_count": 174,
   "metadata": {},
   "outputs": [],
   "source": [
    "#data[data.subtype==\"apartment group\"]"
   ]
  },
  {
   "cell_type": "markdown",
   "metadata": {},
   "source": [
    "---------------"
   ]
  },
  {
   "cell_type": "markdown",
   "metadata": {},
   "source": [
    " > suppressing some rows where price is an interval and  not a definitive value"
   ]
  },
  {
   "cell_type": "code",
   "execution_count": 175,
   "metadata": {},
   "outputs": [
    {
     "data": {
      "text/plain": [
       "house              9568\n",
       "apartment          8616\n",
       "apartment group    1318\n",
       "house group         353\n",
       "Name: type, dtype: int64"
      ]
     },
     "execution_count": 175,
     "metadata": {},
     "output_type": "execute_result"
    }
   ],
   "source": [
    "data.type.value_counts()"
   ]
  },
  {
   "cell_type": "code",
   "execution_count": 176,
   "metadata": {},
   "outputs": [],
   "source": [
    "data = data[data.type!=\"apartment group\"]\n",
    "data = data[data.type!=\"house group\"]\n",
    "data = data[data.subtype!=\"apartment group\"]"
   ]
  },
  {
   "cell_type": "code",
   "execution_count": 177,
   "metadata": {},
   "outputs": [
    {
     "data": {
      "text/plain": [
       "house        9568\n",
       "apartment    8616\n",
       "Name: type, dtype: int64"
      ]
     },
     "execution_count": 177,
     "metadata": {},
     "output_type": "execute_result"
    }
   ],
   "source": [
    "data.type.value_counts()"
   ]
  },
  {
   "cell_type": "code",
   "execution_count": 178,
   "metadata": {},
   "outputs": [
    {
     "data": {
      "text/html": [
       "<div>\n",
       "<style scoped>\n",
       "    .dataframe tbody tr th:only-of-type {\n",
       "        vertical-align: middle;\n",
       "    }\n",
       "\n",
       "    .dataframe tbody tr th {\n",
       "        vertical-align: top;\n",
       "    }\n",
       "\n",
       "    .dataframe thead th {\n",
       "        text-align: right;\n",
       "    }\n",
       "</style>\n",
       "<table border=\"1\" class=\"dataframe\">\n",
       "  <thead>\n",
       "    <tr style=\"text-align: right;\">\n",
       "      <th></th>\n",
       "      <th>id</th>\n",
       "      <th>type</th>\n",
       "      <th>subtype</th>\n",
       "      <th>price</th>\n",
       "      <th>transactionType</th>\n",
       "      <th>zip</th>\n",
       "      <th>visualisationOption</th>\n",
       "      <th>cuisine_type</th>\n",
       "      <th>constructionYear</th>\n",
       "      <th>condition</th>\n",
       "      <th>heatingType</th>\n",
       "      <th>primaryEnergyConsumptionLevel</th>\n",
       "      <th>room_number</th>\n",
       "      <th>surface</th>\n",
       "      <th>atticExists</th>\n",
       "      <th>basementExists</th>\n",
       "      <th>hasSwimmingPool</th>\n",
       "      <th>indoor</th>\n",
       "      <th>outdoor</th>\n",
       "      <th>short_id</th>\n",
       "      <th>company_name</th>\n",
       "      <th>m2</th>\n",
       "      <th>commune</th>\n",
       "    </tr>\n",
       "  </thead>\n",
       "  <tbody>\n",
       "  </tbody>\n",
       "</table>\n",
       "</div>"
      ],
      "text/plain": [
       "Empty DataFrame\n",
       "Columns: [id, type, subtype, price, transactionType, zip, visualisationOption, cuisine_type, constructionYear, condition, heatingType, primaryEnergyConsumptionLevel, room_number, surface, atticExists, basementExists, hasSwimmingPool, indoor, outdoor, short_id, company_name, m2, commune]\n",
       "Index: []"
      ]
     },
     "execution_count": 178,
     "metadata": {},
     "output_type": "execute_result"
    }
   ],
   "source": [
    "data[data.type.isin([\"apartment group\",\"house group\"])]"
   ]
  },
  {
   "cell_type": "code",
   "execution_count": 179,
   "metadata": {},
   "outputs": [],
   "source": [
    "data.rename(columns={'m2':\"mètres carrés\"},inplace=True)"
   ]
  },
  {
   "cell_type": "markdown",
   "metadata": {},
   "source": [
    "deleting irrelevant columns"
   ]
  },
  {
   "cell_type": "code",
   "execution_count": 180,
   "metadata": {},
   "outputs": [],
   "source": [
    "del data[\"surface\"]\n",
    "del data[\"primaryEnergyConsumptionLevel\"]"
   ]
  },
  {
   "cell_type": "code",
   "execution_count": 181,
   "metadata": {},
   "outputs": [
    {
     "data": {
      "text/plain": [
       "Index(['id', 'type', 'subtype', 'price', 'transactionType', 'zip',\n",
       "       'visualisationOption', 'cuisine_type', 'constructionYear', 'condition',\n",
       "       'heatingType', 'room_number', 'atticExists', 'basementExists',\n",
       "       'hasSwimmingPool', 'indoor', 'outdoor', 'short_id', 'company_name',\n",
       "       'mètres carrés', 'commune'],\n",
       "      dtype='object')"
      ]
     },
     "execution_count": 181,
     "metadata": {},
     "output_type": "execute_result"
    }
   ],
   "source": [
    "data.columns"
   ]
  },
  {
   "cell_type": "markdown",
   "metadata": {},
   "source": [
    "### Replacing  missing value in data[\"atticExists\"]\n"
   ]
  },
  {
   "cell_type": "code",
   "execution_count": 182,
   "metadata": {},
   "outputs": [
    {
     "data": {
      "text/plain": [
       "house        9568\n",
       "apartment    8616\n",
       "Name: type, dtype: int64"
      ]
     },
     "execution_count": 182,
     "metadata": {},
     "output_type": "execute_result"
    }
   ],
   "source": [
    "data.type.value_counts()"
   ]
  },
  {
   "cell_type": "code",
   "execution_count": 183,
   "metadata": {},
   "outputs": [],
   "source": [
    "attics = data[\"atticExists\"]"
   ]
  },
  {
   "cell_type": "code",
   "execution_count": 184,
   "metadata": {},
   "outputs": [
    {
     "data": {
      "text/plain": [
       "True    2625\n",
       "Name: atticExists, dtype: int64"
      ]
     },
     "execution_count": 184,
     "metadata": {},
     "output_type": "execute_result"
    }
   ],
   "source": [
    "attics.value_counts()"
   ]
  },
  {
   "cell_type": "markdown",
   "metadata": {},
   "source": [
    "- We assume that if the data is not  True it's False"
   ]
  },
  {
   "cell_type": "code",
   "execution_count": 185,
   "metadata": {},
   "outputs": [],
   "source": [
    "attics.fillna(False,inplace= True)"
   ]
  },
  {
   "cell_type": "code",
   "execution_count": 186,
   "metadata": {},
   "outputs": [
    {
     "data": {
      "text/plain": [
       "False    15559\n",
       "True      2625\n",
       "Name: atticExists, dtype: int64"
      ]
     },
     "execution_count": 186,
     "metadata": {},
     "output_type": "execute_result"
    }
   ],
   "source": [
    "attics.value_counts()"
   ]
  },
  {
   "cell_type": "code",
   "execution_count": 187,
   "metadata": {},
   "outputs": [],
   "source": [
    "data[\"atticExists\"] =attics"
   ]
  },
  {
   "cell_type": "code",
   "execution_count": 188,
   "metadata": {},
   "outputs": [
    {
     "data": {
      "text/plain": [
       "False    15559\n",
       "True      2625\n",
       "Name: atticExists, dtype: int64"
      ]
     },
     "execution_count": 188,
     "metadata": {},
     "output_type": "execute_result"
    }
   ],
   "source": [
    "data[\"atticExists\"].value_counts()"
   ]
  },
  {
   "cell_type": "markdown",
   "metadata": {},
   "source": [
    "#### Doing the same with data[\"hasSwimmingPool\"] and data[\"basementExists\"]\n",
    "#### and data[\"cuisine_type\"]"
   ]
  },
  {
   "cell_type": "code",
   "execution_count": 189,
   "metadata": {},
   "outputs": [],
   "source": [
    "data[\"hasSwimmingPool\"].fillna(False,inplace= True)\n",
    "data[\"basementExists\"].fillna(False,inplace= True)"
   ]
  },
  {
   "cell_type": "markdown",
   "metadata": {},
   "source": [
    "## Let's see :"
   ]
  },
  {
   "cell_type": "code",
   "execution_count": 190,
   "metadata": {},
   "outputs": [
    {
     "name": "stdout",
     "output_type": "stream",
     "text": [
      "<class 'pandas.core.frame.DataFrame'>\n",
      "Int64Index: 18184 entries, 2 to 19854\n",
      "Data columns (total 21 columns):\n",
      " #   Column               Non-Null Count  Dtype  \n",
      "---  ------               --------------  -----  \n",
      " 0   id                   18184 non-null  int64  \n",
      " 1   type                 18184 non-null  object \n",
      " 2   subtype              18184 non-null  object \n",
      " 3   price                18184 non-null  object \n",
      " 4   transactionType      18184 non-null  object \n",
      " 5   zip                  18184 non-null  int64  \n",
      " 6   visualisationOption  18184 non-null  object \n",
      " 7   cuisine_type         12904 non-null  object \n",
      " 8   constructionYear     11227 non-null  float64\n",
      " 9   condition            13434 non-null  object \n",
      " 10  heatingType          12404 non-null  object \n",
      " 11  room_number          18184 non-null  float64\n",
      " 12  atticExists          18184 non-null  bool   \n",
      " 13  basementExists       18184 non-null  bool   \n",
      " 14  hasSwimmingPool      18184 non-null  bool   \n",
      " 15  indoor               6783 non-null   float64\n",
      " 16  outdoor              5267 non-null   float64\n",
      " 17  short_id             18184 non-null  int64  \n",
      " 18  company_name         17067 non-null  object \n",
      " 19  mètres carrés        18184 non-null  int64  \n",
      " 20  commune              18184 non-null  object \n",
      "dtypes: bool(3), float64(4), int64(4), object(10)\n",
      "memory usage: 2.7+ MB\n"
     ]
    }
   ],
   "source": [
    "data.info()"
   ]
  },
  {
   "cell_type": "markdown",
   "metadata": {},
   "source": [
    "#### condition, heatingtype,room_number and company_name need to be dealt with"
   ]
  },
  {
   "cell_type": "markdown",
   "metadata": {},
   "source": [
    "# The dropna approach"
   ]
  },
  {
   "cell_type": "markdown",
   "metadata": {},
   "source": [
    "### Removing rows where  heatingType , condition and room_number are missing"
   ]
  },
  {
   "cell_type": "code",
   "execution_count": 191,
   "metadata": {},
   "outputs": [],
   "source": [
    "data_with_removeNAN = data.copy()"
   ]
  },
  {
   "cell_type": "code",
   "execution_count": 192,
   "metadata": {},
   "outputs": [
    {
     "data": {
      "text/plain": [
       "(18184, 21)"
      ]
     },
     "execution_count": 192,
     "metadata": {},
     "output_type": "execute_result"
    }
   ],
   "source": [
    "data_with_removeNAN.shape"
   ]
  },
  {
   "cell_type": "code",
   "execution_count": 193,
   "metadata": {},
   "outputs": [],
   "source": [
    "data_with_removeNAN.dropna(subset=[\"heatingType\",\"condition\",\"room_number\",\"cuisine_type\",\"constructionYear\"],inplace=True)"
   ]
  },
  {
   "cell_type": "code",
   "execution_count": 194,
   "metadata": {},
   "outputs": [
    {
     "data": {
      "text/plain": [
       "(5387, 21)"
      ]
     },
     "execution_count": 194,
     "metadata": {},
     "output_type": "execute_result"
    }
   ],
   "source": [
    "data_with_removeNAN.shape"
   ]
  },
  {
   "cell_type": "markdown",
   "metadata": {},
   "source": [
    "# Transforming date to int"
   ]
  },
  {
   "cell_type": "code",
   "execution_count": 195,
   "metadata": {},
   "outputs": [
    {
     "data": {
      "text/plain": [
       "2        2017\n",
       "3        2014\n",
       "4        2017\n",
       "5        2020\n",
       "6        2013\n",
       "         ... \n",
       "19626    2019\n",
       "19636    2020\n",
       "19669    2020\n",
       "19705    1964\n",
       "19736    2020\n",
       "Name: constructionYear, Length: 5387, dtype: int64"
      ]
     },
     "execution_count": 195,
     "metadata": {},
     "output_type": "execute_result"
    }
   ],
   "source": [
    "data_with_removeNAN[\"constructionYear\"].astype(\"int64\")"
   ]
  },
  {
   "cell_type": "code",
   "execution_count": 196,
   "metadata": {},
   "outputs": [],
   "source": [
    "#data_with_removeNAN[\"indoor\"].value_counts()"
   ]
  },
  {
   "cell_type": "markdown",
   "metadata": {},
   "source": [
    " - ^After looking up indoor and outdoor are values corresponding to parking spots. So lets rename them for clarity sake"
   ]
  },
  {
   "cell_type": "code",
   "execution_count": 197,
   "metadata": {},
   "outputs": [],
   "source": [
    "data_with_removeNAN.rename(columns={'outdoor':\"parking extérieur\"},inplace=True)"
   ]
  },
  {
   "cell_type": "code",
   "execution_count": 198,
   "metadata": {},
   "outputs": [],
   "source": [
    "data_with_removeNAN.rename(columns={'indoor':\"parking intérieur\"},inplace=True)"
   ]
  },
  {
   "cell_type": "markdown",
   "metadata": {},
   "source": [
    "- Still need  to replace missing values in those two."
   ]
  },
  {
   "cell_type": "code",
   "execution_count": 199,
   "metadata": {},
   "outputs": [],
   "source": [
    "data_with_removeNAN[\"parking extérieur\"].fillna(0,inplace=True)\n",
    "data_with_removeNAN[\"parking intérieur\"].fillna(0,inplace=True)"
   ]
  },
  {
   "cell_type": "markdown",
   "metadata": {},
   "source": [
    "## Checking our data again"
   ]
  },
  {
   "cell_type": "code",
   "execution_count": 200,
   "metadata": {},
   "outputs": [
    {
     "name": "stdout",
     "output_type": "stream",
     "text": [
      "<class 'pandas.core.frame.DataFrame'>\n",
      "Int64Index: 5387 entries, 2 to 19736\n",
      "Data columns (total 21 columns):\n",
      " #   Column               Non-Null Count  Dtype  \n",
      "---  ------               --------------  -----  \n",
      " 0   id                   5387 non-null   int64  \n",
      " 1   type                 5387 non-null   object \n",
      " 2   subtype              5387 non-null   object \n",
      " 3   price                5387 non-null   object \n",
      " 4   transactionType      5387 non-null   object \n",
      " 5   zip                  5387 non-null   int64  \n",
      " 6   visualisationOption  5387 non-null   object \n",
      " 7   cuisine_type         5387 non-null   object \n",
      " 8   constructionYear     5387 non-null   float64\n",
      " 9   condition            5387 non-null   object \n",
      " 10  heatingType          5387 non-null   object \n",
      " 11  room_number          5387 non-null   float64\n",
      " 12  atticExists          5387 non-null   bool   \n",
      " 13  basementExists       5387 non-null   bool   \n",
      " 14  hasSwimmingPool      5387 non-null   bool   \n",
      " 15  parking intérieur    5387 non-null   float64\n",
      " 16  parking extérieur    5387 non-null   float64\n",
      " 17  short_id             5387 non-null   int64  \n",
      " 18  company_name         4918 non-null   object \n",
      " 19  mètres carrés        5387 non-null   int64  \n",
      " 20  commune              5387 non-null   object \n",
      "dtypes: bool(3), float64(4), int64(4), object(10)\n",
      "memory usage: 815.4+ KB\n"
     ]
    }
   ],
   "source": [
    "data_with_removeNAN.info()"
   ]
  },
  {
   "cell_type": "markdown",
   "metadata": {},
   "source": [
    "## What to do ?"
   ]
  },
  {
   "cell_type": "markdown",
   "metadata": {},
   "source": [
    "A few hundreds missing values still exist in \"company name\". We could assume that those missing values are because the sellers are not agency but individuals or we could just simply delete the rows with missing datas. SInce we opted for removing the rows with missing values in the other columns, lets stay consistent."
   ]
  },
  {
   "cell_type": "code",
   "execution_count": 201,
   "metadata": {},
   "outputs": [],
   "source": [
    "data_with_removeNAN.dropna(subset=[\"company_name\"],inplace=True)"
   ]
  },
  {
   "cell_type": "code",
   "execution_count": 202,
   "metadata": {},
   "outputs": [
    {
     "data": {
      "text/plain": [
       "(4918, 21)"
      ]
     },
     "execution_count": 202,
     "metadata": {},
     "output_type": "execute_result"
    }
   ],
   "source": [
    "data_with_removeNAN.shape"
   ]
  },
  {
   "cell_type": "code",
   "execution_count": 203,
   "metadata": {},
   "outputs": [
    {
     "name": "stdout",
     "output_type": "stream",
     "text": [
      "<class 'pandas.core.frame.DataFrame'>\n",
      "Int64Index: 4918 entries, 2 to 19736\n",
      "Data columns (total 21 columns):\n",
      " #   Column               Non-Null Count  Dtype  \n",
      "---  ------               --------------  -----  \n",
      " 0   id                   4918 non-null   int64  \n",
      " 1   type                 4918 non-null   object \n",
      " 2   subtype              4918 non-null   object \n",
      " 3   price                4918 non-null   object \n",
      " 4   transactionType      4918 non-null   object \n",
      " 5   zip                  4918 non-null   int64  \n",
      " 6   visualisationOption  4918 non-null   object \n",
      " 7   cuisine_type         4918 non-null   object \n",
      " 8   constructionYear     4918 non-null   float64\n",
      " 9   condition            4918 non-null   object \n",
      " 10  heatingType          4918 non-null   object \n",
      " 11  room_number          4918 non-null   float64\n",
      " 12  atticExists          4918 non-null   bool   \n",
      " 13  basementExists       4918 non-null   bool   \n",
      " 14  hasSwimmingPool      4918 non-null   bool   \n",
      " 15  parking intérieur    4918 non-null   float64\n",
      " 16  parking extérieur    4918 non-null   float64\n",
      " 17  short_id             4918 non-null   int64  \n",
      " 18  company_name         4918 non-null   object \n",
      " 19  mètres carrés        4918 non-null   int64  \n",
      " 20  commune              4918 non-null   object \n",
      "dtypes: bool(3), float64(4), int64(4), object(10)\n",
      "memory usage: 744.4+ KB\n"
     ]
    }
   ],
   "source": [
    "data_with_removeNAN.info()"
   ]
  },
  {
   "cell_type": "markdown",
   "metadata": {},
   "source": [
    "- We finally arrive with a dataset with 4918 lines where all values are filled !"
   ]
  },
  {
   "cell_type": "markdown",
   "metadata": {},
   "source": [
    "# The filling approach"
   ]
  },
  {
   "cell_type": "code",
   "execution_count": 204,
   "metadata": {},
   "outputs": [],
   "source": [
    "data_with_fillNa = data.copy()"
   ]
  },
  {
   "cell_type": "code",
   "execution_count": 205,
   "metadata": {},
   "outputs": [],
   "source": [
    "data_with_fillNa[\"heatingType\"].fillna(method='pad',inplace=True)\n",
    "data_with_fillNa[\"condition\"].fillna(method='pad',inplace=True)\n",
    "data_with_fillNa[\"room_number\"].fillna(method='pad',inplace=True)\n",
    "data_with_fillNa[\"cuisine_type\"].fillna(\"No infos\",inplace= True)"
   ]
  },
  {
   "cell_type": "code",
   "execution_count": 206,
   "metadata": {},
   "outputs": [],
   "source": [
    "data_with_fillNa[\"company_name\"].fillna(\"Individuals\",inplace=True)"
   ]
  },
  {
   "cell_type": "code",
   "execution_count": 207,
   "metadata": {},
   "outputs": [],
   "source": [
    "construction = data[\"constructionYear\"]\n",
    "construction.fillna(data_with_fillNa[\"constructionYear\"].mean(),inplace=True)\n",
    "data_with_fillNa[\"constructionYear\"] = construction"
   ]
  },
  {
   "cell_type": "markdown",
   "metadata": {},
   "source": [
    "Quick redo of indoor/outdoor stuff"
   ]
  },
  {
   "cell_type": "code",
   "execution_count": 208,
   "metadata": {},
   "outputs": [],
   "source": [
    "data_with_fillNa.rename(columns={'outdoor':\"parking extérieur\"},inplace=True)\n",
    "data_with_fillNa.rename(columns={'indoor':\"parking intérieur\"},inplace=True)\n",
    "data_with_fillNa[\"parking extérieur\"].fillna(0,inplace=True)\n",
    "data_with_fillNa[\"parking intérieur\"].fillna(0,inplace=True)"
   ]
  },
  {
   "cell_type": "code",
   "execution_count": 209,
   "metadata": {},
   "outputs": [
    {
     "name": "stdout",
     "output_type": "stream",
     "text": [
      "<class 'pandas.core.frame.DataFrame'>\n",
      "Int64Index: 18184 entries, 2 to 19854\n",
      "Data columns (total 21 columns):\n",
      " #   Column               Non-Null Count  Dtype  \n",
      "---  ------               --------------  -----  \n",
      " 0   id                   18184 non-null  int64  \n",
      " 1   type                 18184 non-null  object \n",
      " 2   subtype              18184 non-null  object \n",
      " 3   price                18184 non-null  object \n",
      " 4   transactionType      18184 non-null  object \n",
      " 5   zip                  18184 non-null  int64  \n",
      " 6   visualisationOption  18184 non-null  object \n",
      " 7   cuisine_type         18184 non-null  object \n",
      " 8   constructionYear     18184 non-null  float64\n",
      " 9   condition            18184 non-null  object \n",
      " 10  heatingType          18184 non-null  object \n",
      " 11  room_number          18184 non-null  float64\n",
      " 12  atticExists          18184 non-null  bool   \n",
      " 13  basementExists       18184 non-null  bool   \n",
      " 14  hasSwimmingPool      18184 non-null  bool   \n",
      " 15  parking intérieur    18184 non-null  float64\n",
      " 16  parking extérieur    18184 non-null  float64\n",
      " 17  short_id             18184 non-null  int64  \n",
      " 18  company_name         18184 non-null  object \n",
      " 19  mètres carrés        18184 non-null  int64  \n",
      " 20  commune              18184 non-null  object \n",
      "dtypes: bool(3), float64(4), int64(4), object(10)\n",
      "memory usage: 2.7+ MB\n"
     ]
    }
   ],
   "source": [
    "data_with_fillNa.info()"
   ]
  },
  {
   "cell_type": "markdown",
   "metadata": {},
   "source": [
    "drop those 2 lines with some missing values :"
   ]
  },
  {
   "cell_type": "code",
   "execution_count": 210,
   "metadata": {},
   "outputs": [],
   "source": [
    "data_with_fillNa.dropna(inplace=True)"
   ]
  },
  {
   "cell_type": "markdown",
   "metadata": {},
   "source": [
    "# Export those 2 in too differents csv for further analysis"
   ]
  },
  {
   "cell_type": "code",
   "execution_count": 211,
   "metadata": {},
   "outputs": [],
   "source": [
    "data_with_removeNAN.to_csv(\"DatasetsImmo/clean_remove_approach.csv\")"
   ]
  },
  {
   "cell_type": "code",
   "execution_count": 212,
   "metadata": {},
   "outputs": [],
   "source": [
    "data_with_fillNa.to_csv(\"DatasetsImmo/clean_fill_approach.csv\")"
   ]
  },
  {
   "cell_type": "code",
   "execution_count": null,
   "metadata": {},
   "outputs": [],
   "source": []
  }
 ],
 "metadata": {
  "kernelspec": {
   "display_name": "becode",
   "language": "python",
   "name": "becode"
  },
  "language_info": {
   "codemirror_mode": {
    "name": "ipython",
    "version": 3
   },
   "file_extension": ".py",
   "mimetype": "text/x-python",
   "name": "python",
   "nbconvert_exporter": "python",
   "pygments_lexer": "ipython3",
   "version": "3.6.7"
  }
 },
 "nbformat": 4,
 "nbformat_minor": 4
}
